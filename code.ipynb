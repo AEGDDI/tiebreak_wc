{
 "cells": [
  {
   "cell_type": "markdown",
   "metadata": {},
   "source": [
    "# Libraries"
   ]
  },
  {
   "cell_type": "code",
   "execution_count": 58,
   "metadata": {},
   "outputs": [],
   "source": [
    "import pandas as pd\n",
    "from getpass import getuser"
   ]
  },
  {
   "cell_type": "markdown",
   "metadata": {},
   "source": [
    "# Load and inspect dataset"
   ]
  },
  {
   "cell_type": "code",
   "execution_count": 59,
   "metadata": {},
   "outputs": [],
   "source": [
    "# Get the current user's name\n",
    "user = getuser()\n",
    "\n",
    "# Path to the dataset\n",
    "data_path = rf'C:\\Users\\{user}\\Documents\\GitHub\\tiebreak_wc\\data.csv'\n",
    "\n",
    "# Read the dataset with a different encoding\n",
    "df = pd.read_csv(data_path, encoding='ISO-8859-1')\n",
    "\n",
    "\n"
   ]
  },
  {
   "cell_type": "markdown",
   "metadata": {},
   "source": [
    "# Extract relevant columns"
   ]
  },
  {
   "cell_type": "code",
   "execution_count": 60,
   "metadata": {},
   "outputs": [
    {
     "data": {
      "text/html": [
       "<div>\n",
       "<style scoped>\n",
       "    .dataframe tbody tr th:only-of-type {\n",
       "        vertical-align: middle;\n",
       "    }\n",
       "\n",
       "    .dataframe tbody tr th {\n",
       "        vertical-align: top;\n",
       "    }\n",
       "\n",
       "    .dataframe thead th {\n",
       "        text-align: right;\n",
       "    }\n",
       "</style>\n",
       "<table border=\"1\" class=\"dataframe\">\n",
       "  <thead>\n",
       "    <tr style=\"text-align: right;\">\n",
       "      <th></th>\n",
       "      <th>tournament_name</th>\n",
       "      <th>group_name</th>\n",
       "      <th>match_name</th>\n",
       "      <th>match_id</th>\n",
       "      <th>player_team_name</th>\n",
       "      <th>match_date</th>\n",
       "      <th>minute_regulation</th>\n",
       "      <th>team_id</th>\n",
       "      <th>own_goal</th>\n",
       "    </tr>\n",
       "  </thead>\n",
       "  <tbody>\n",
       "    <tr>\n",
       "      <th>0</th>\n",
       "      <td>1930 FIFA World Cup</td>\n",
       "      <td>Group 1</td>\n",
       "      <td>France v Mexico</td>\n",
       "      <td>M-1930-01</td>\n",
       "      <td>France</td>\n",
       "      <td>7/13/1930</td>\n",
       "      <td>19</td>\n",
       "      <td>T-28</td>\n",
       "      <td>0</td>\n",
       "    </tr>\n",
       "    <tr>\n",
       "      <th>1</th>\n",
       "      <td>1930 FIFA World Cup</td>\n",
       "      <td>Group 1</td>\n",
       "      <td>France v Mexico</td>\n",
       "      <td>M-1930-01</td>\n",
       "      <td>France</td>\n",
       "      <td>7/13/1930</td>\n",
       "      <td>40</td>\n",
       "      <td>T-28</td>\n",
       "      <td>0</td>\n",
       "    </tr>\n",
       "    <tr>\n",
       "      <th>2</th>\n",
       "      <td>1930 FIFA World Cup</td>\n",
       "      <td>Group 1</td>\n",
       "      <td>France v Mexico</td>\n",
       "      <td>M-1930-01</td>\n",
       "      <td>France</td>\n",
       "      <td>7/13/1930</td>\n",
       "      <td>43</td>\n",
       "      <td>T-28</td>\n",
       "      <td>0</td>\n",
       "    </tr>\n",
       "    <tr>\n",
       "      <th>3</th>\n",
       "      <td>1930 FIFA World Cup</td>\n",
       "      <td>Group 1</td>\n",
       "      <td>France v Mexico</td>\n",
       "      <td>M-1930-01</td>\n",
       "      <td>Mexico</td>\n",
       "      <td>7/13/1930</td>\n",
       "      <td>70</td>\n",
       "      <td>T-44</td>\n",
       "      <td>0</td>\n",
       "    </tr>\n",
       "    <tr>\n",
       "      <th>4</th>\n",
       "      <td>1930 FIFA World Cup</td>\n",
       "      <td>Group 1</td>\n",
       "      <td>France v Mexico</td>\n",
       "      <td>M-1930-01</td>\n",
       "      <td>France</td>\n",
       "      <td>7/13/1930</td>\n",
       "      <td>87</td>\n",
       "      <td>T-28</td>\n",
       "      <td>0</td>\n",
       "    </tr>\n",
       "  </tbody>\n",
       "</table>\n",
       "</div>"
      ],
      "text/plain": [
       "       tournament_name group_name       match_name   match_id  \\\n",
       "0  1930 FIFA World Cup    Group 1  France v Mexico  M-1930-01   \n",
       "1  1930 FIFA World Cup    Group 1  France v Mexico  M-1930-01   \n",
       "2  1930 FIFA World Cup    Group 1  France v Mexico  M-1930-01   \n",
       "3  1930 FIFA World Cup    Group 1  France v Mexico  M-1930-01   \n",
       "4  1930 FIFA World Cup    Group 1  France v Mexico  M-1930-01   \n",
       "\n",
       "  player_team_name match_date  minute_regulation team_id  own_goal  \n",
       "0           France  7/13/1930                 19    T-28         0  \n",
       "1           France  7/13/1930                 40    T-28         0  \n",
       "2           France  7/13/1930                 43    T-28         0  \n",
       "3           Mexico  7/13/1930                 70    T-44         0  \n",
       "4           France  7/13/1930                 87    T-28         0  "
      ]
     },
     "execution_count": 60,
     "metadata": {},
     "output_type": "execute_result"
    }
   ],
   "source": [
    "# Extract relevant columns for goal events and match results\n",
    "goals_df = df[['tournament_name', 'group_name','match_name', 'match_id', 'player_team_name','match_date', 'minute_regulation', \n",
    "               'team_id', 'own_goal']]\n",
    "\n",
    "# Display the first few rows to see what we extracted\n",
    "goals_df.head()\n",
    "\n"
   ]
  },
  {
   "cell_type": "code",
   "execution_count": 61,
   "metadata": {},
   "outputs": [
    {
     "name": "stderr",
     "output_type": "stream",
     "text": [
      "C:\\Users\\ALESSANDRO\\AppData\\Local\\Temp\\ipykernel_13020\\342529964.py:2: SettingWithCopyWarning: \n",
      "A value is trying to be set on a copy of a slice from a DataFrame.\n",
      "Try using .loc[row_indexer,col_indexer] = value instead\n",
      "\n",
      "See the caveats in the documentation: https://pandas.pydata.org/pandas-docs/stable/user_guide/indexing.html#returning-a-view-versus-a-copy\n",
      "  goals_df['match_date'] = pd.to_datetime(goals_df['match_date'], format='%m/%d/%Y')\n"
     ]
    },
    {
     "data": {
      "text/html": [
       "<div>\n",
       "<style scoped>\n",
       "    .dataframe tbody tr th:only-of-type {\n",
       "        vertical-align: middle;\n",
       "    }\n",
       "\n",
       "    .dataframe tbody tr th {\n",
       "        vertical-align: top;\n",
       "    }\n",
       "\n",
       "    .dataframe thead th {\n",
       "        text-align: right;\n",
       "    }\n",
       "</style>\n",
       "<table border=\"1\" class=\"dataframe\">\n",
       "  <thead>\n",
       "    <tr style=\"text-align: right;\">\n",
       "      <th></th>\n",
       "      <th>tournament_name</th>\n",
       "      <th>group_name</th>\n",
       "      <th>match_name</th>\n",
       "      <th>match_id</th>\n",
       "      <th>player_team_name</th>\n",
       "      <th>match_date</th>\n",
       "      <th>minute_regulation</th>\n",
       "      <th>team_id</th>\n",
       "      <th>own_goal</th>\n",
       "    </tr>\n",
       "  </thead>\n",
       "  <tbody>\n",
       "    <tr>\n",
       "      <th>0</th>\n",
       "      <td>1930 FIFA World Cup</td>\n",
       "      <td>Group 1</td>\n",
       "      <td>France v Mexico</td>\n",
       "      <td>M-1930-01</td>\n",
       "      <td>France</td>\n",
       "      <td>1930-07-13</td>\n",
       "      <td>19</td>\n",
       "      <td>T-28</td>\n",
       "      <td>0</td>\n",
       "    </tr>\n",
       "    <tr>\n",
       "      <th>5</th>\n",
       "      <td>1930 FIFA World Cup</td>\n",
       "      <td>Group 4</td>\n",
       "      <td>United States v Belgium</td>\n",
       "      <td>M-1930-02</td>\n",
       "      <td>United States</td>\n",
       "      <td>1930-07-13</td>\n",
       "      <td>23</td>\n",
       "      <td>T-80</td>\n",
       "      <td>0</td>\n",
       "    </tr>\n",
       "    <tr>\n",
       "      <th>1</th>\n",
       "      <td>1930 FIFA World Cup</td>\n",
       "      <td>Group 1</td>\n",
       "      <td>France v Mexico</td>\n",
       "      <td>M-1930-01</td>\n",
       "      <td>France</td>\n",
       "      <td>1930-07-13</td>\n",
       "      <td>40</td>\n",
       "      <td>T-28</td>\n",
       "      <td>0</td>\n",
       "    </tr>\n",
       "    <tr>\n",
       "      <th>2</th>\n",
       "      <td>1930 FIFA World Cup</td>\n",
       "      <td>Group 1</td>\n",
       "      <td>France v Mexico</td>\n",
       "      <td>M-1930-01</td>\n",
       "      <td>France</td>\n",
       "      <td>1930-07-13</td>\n",
       "      <td>43</td>\n",
       "      <td>T-28</td>\n",
       "      <td>0</td>\n",
       "    </tr>\n",
       "    <tr>\n",
       "      <th>6</th>\n",
       "      <td>1930 FIFA World Cup</td>\n",
       "      <td>Group 4</td>\n",
       "      <td>United States v Belgium</td>\n",
       "      <td>M-1930-02</td>\n",
       "      <td>United States</td>\n",
       "      <td>1930-07-13</td>\n",
       "      <td>45</td>\n",
       "      <td>T-80</td>\n",
       "      <td>0</td>\n",
       "    </tr>\n",
       "  </tbody>\n",
       "</table>\n",
       "</div>"
      ],
      "text/plain": [
       "       tournament_name group_name               match_name   match_id  \\\n",
       "0  1930 FIFA World Cup    Group 1          France v Mexico  M-1930-01   \n",
       "5  1930 FIFA World Cup    Group 4  United States v Belgium  M-1930-02   \n",
       "1  1930 FIFA World Cup    Group 1          France v Mexico  M-1930-01   \n",
       "2  1930 FIFA World Cup    Group 1          France v Mexico  M-1930-01   \n",
       "6  1930 FIFA World Cup    Group 4  United States v Belgium  M-1930-02   \n",
       "\n",
       "  player_team_name match_date  minute_regulation team_id  own_goal  \n",
       "0           France 1930-07-13                 19    T-28         0  \n",
       "5    United States 1930-07-13                 23    T-80         0  \n",
       "1           France 1930-07-13                 40    T-28         0  \n",
       "2           France 1930-07-13                 43    T-28         0  \n",
       "6    United States 1930-07-13                 45    T-80         0  "
      ]
     },
     "execution_count": 61,
     "metadata": {},
     "output_type": "execute_result"
    }
   ],
   "source": [
    "# Convert 'match_date' to datetime format\n",
    "goals_df['match_date'] = pd.to_datetime(goals_df['match_date'], format='%m/%d/%Y')\n",
    "\n",
    "# Sort the dataset by 'match_date' in ascending order (oldest first) and 'minute_regulation'\n",
    "goals_df = goals_df.sort_values(by=['match_date', 'minute_regulation'], ascending=[True, True])\n",
    "\n",
    "# Display the first few rows to confirm the sorting\n",
    "goals_df.head()"
   ]
  },
  {
   "cell_type": "markdown",
   "metadata": {},
   "source": [
    "# Calculate dynamically match outcomes after each goal"
   ]
  },
  {
   "cell_type": "markdown",
   "metadata": {},
   "source": [
    "## Recreate final league table"
   ]
  },
  {
   "cell_type": "code",
   "execution_count": 62,
   "metadata": {},
   "outputs": [
    {
     "name": "stdout",
     "output_type": "stream",
     "text": [
      "{'M-1930-01': {'teams': {'France': 4, 'Mexico': 1}, 'group_name': 'Group 1'}, 'M-1930-02': {'teams': {'United States': 3, 'Belgium': 0}, 'group_name': 'Group 4'}, 'M-1930-04': {'teams': {'Romania': 3, 'Peru': 1}, 'group_name': 'Group 3'}, 'M-1930-03': {'teams': {'Yugoslavia': 2, 'Brazil': 1}, 'group_name': 'Group 2'}, 'M-1930-05': {'teams': {'Argentina': 1, 'France': 0}, 'group_name': 'Group 1'}, 'M-1930-06': {'teams': {'Chile': 3, 'Mexico': 0}, 'group_name': 'Group 1'}, 'M-1930-08': {'teams': {'United States': 3, 'Paraguay': 0}, 'group_name': 'Group 4'}, 'M-1930-07': {'teams': {'Yugoslavia': 4, 'Bolivia': 0}, 'group_name': 'Group 2'}, 'M-1930-09': {'teams': {'Uruguay': 1, 'Peru': 0}, 'group_name': 'Group 3'}, 'M-1930-11': {'teams': {'Argentina': 6, 'Mexico': 3}, 'group_name': 'Group 1'}, 'M-1930-10': {'teams': {'Chile': 1, 'France': 0}, 'group_name': 'Group 1'}, 'M-1930-12': {'teams': {'Brazil': 4, 'Bolivia': 0}, 'group_name': 'Group 2'}, 'M-1930-13': {'teams': {'Paraguay': 1, 'Belgium': 0}, 'group_name': 'Group 4'}, 'M-1930-14': {'teams': {'Uruguay': 4, 'Romania': 0}, 'group_name': 'Group 3'}, 'M-1930-15': {'teams': {'Argentina': 3, 'Chile': 1}, 'group_name': 'Group 1'}, 'M-1930-16': {'teams': {'Argentina': 6, 'United States': 1}, 'group_name': 'not applicable'}, 'M-1930-17': {'teams': {'Uruguay': 6, 'Yugoslavia': 1}, 'group_name': 'not applicable'}, 'M-1930-18': {'teams': {'Uruguay': 4, 'Argentina': 2}, 'group_name': 'not applicable'}, 'M-1934-07': {'teams': {'Sweden': 3, 'Argentina': 2}, 'group_name': 'not applicable'}, 'M-1934-08': {'teams': {'Switzerland': 3, 'Netherlands': 2}, 'group_name': 'not applicable'}, 'M-1934-02': {'teams': {'Czechoslovakia': 2, 'Romania': 1}, 'group_name': 'not applicable'}, 'M-1934-04': {'teams': {'Hungary': 4, 'Egypt': 2}, 'group_name': 'not applicable'}, 'M-1934-01': {'teams': {'Austria': 3, 'France': 2}, 'group_name': 'not applicable'}, 'M-1934-05': {'teams': {'Italy': 7, 'United States': 1}, 'group_name': 'not applicable'}, 'M-1934-06': {'teams': {'Spain': 3, 'Brazil': 1}, 'group_name': 'not applicable'}, 'M-1934-03': {'teams': {'Germany': 5, 'Belgium': 2}, 'group_name': 'not applicable'}, 'M-1934-09': {'teams': {'Austria': 2, 'Hungary': 1}, 'group_name': 'not applicable'}, 'M-1934-10': {'teams': {'Czechoslovakia': 3, 'Switzerland': 2}, 'group_name': 'not applicable'}, 'M-1934-12': {'teams': {'Italy': 1, 'Spain': 1}, 'group_name': 'not applicable'}, 'M-1934-11': {'teams': {'Germany': 2, 'Sweden': 1}, 'group_name': 'not applicable'}, 'M-1934-13': {'teams': {'Italy': 1, 'Spain': 0}, 'group_name': 'not applicable'}, 'M-1934-15': {'teams': {'Italy': 1, 'Austria': 0}, 'group_name': 'not applicable'}, 'M-1934-14': {'teams': {'Czechoslovakia': 3, 'Germany': 1}, 'group_name': 'not applicable'}, 'M-1934-16': {'teams': {'Germany': 3, 'Austria': 2}, 'group_name': 'not applicable'}, 'M-1934-17': {'teams': {'Italy': 2, 'Czechoslovakia': 1}, 'group_name': 'not applicable'}, 'M-1938-01': {'teams': {'Switzerland': 1, 'Germany': 1}, 'group_name': 'not applicable'}, 'M-1938-03': {'teams': {'France': 3, 'Belgium': 1}, 'group_name': 'not applicable'}, 'M-1938-05': {'teams': {'Italy': 2, 'Norway': 1}, 'group_name': 'not applicable'}, 'M-1938-04': {'teams': {'Hungary': 6, 'Dutch East Indies': 0}, 'group_name': 'not applicable'}, 'M-1938-06': {'teams': {'Brazil': 6, 'Poland': 5}, 'group_name': 'not applicable'}, 'M-1938-02': {'teams': {'Cuba': 3, 'Romania': 3}, 'group_name': 'not applicable'}, 'M-1938-07': {'teams': {'Czechoslovakia': 3, 'Netherlands': 0}, 'group_name': 'not applicable'}, 'M-1938-09': {'teams': {'Switzerland': 4, 'Germany': 2}, 'group_name': 'not applicable'}, 'M-1938-08': {'teams': {'Cuba': 2, 'Romania': 1}, 'group_name': 'not applicable'}, 'M-1938-12': {'teams': {'Italy': 3, 'France': 1}, 'group_name': 'not applicable'}, 'M-1938-13': {'teams': {'Sweden': 8, 'Cuba': 0}, 'group_name': 'not applicable'}, 'M-1938-10': {'teams': {'Brazil': 1, 'Czechoslovakia': 1}, 'group_name': 'not applicable'}, 'M-1938-11': {'teams': {'Hungary': 2, 'Switzerland': 0}, 'group_name': 'not applicable'}, 'M-1938-14': {'teams': {'Brazil': 2, 'Czechoslovakia': 1}, 'group_name': 'not applicable'}, 'M-1938-15': {'teams': {'Hungary': 5, 'Sweden': 1}, 'group_name': 'not applicable'}, 'M-1938-16': {'teams': {'Italy': 2, 'Brazil': 1}, 'group_name': 'not applicable'}, 'M-1938-18': {'teams': {'Italy': 4, 'Hungary': 2}, 'group_name': 'not applicable'}, 'M-1938-17': {'teams': {'Brazil': 4, 'Sweden': 2}, 'group_name': 'not applicable'}, 'M-1950-01': {'teams': {'Brazil': 4, 'Mexico': 0}, 'group_name': 'Group 1'}, 'M-1950-05': {'teams': {'Sweden': 3, 'Italy': 2}, 'group_name': 'Group 3'}, 'M-1950-04': {'teams': {'Spain': 3, 'United States': 1}, 'group_name': 'Group 2'}, 'M-1950-03': {'teams': {'England': 2, 'Chile': 0}, 'group_name': 'Group 2'}, 'M-1950-02': {'teams': {'Yugoslavia': 3, 'Switzerland': 0}, 'group_name': 'Group 1'}, 'M-1950-06': {'teams': {'Brazil': 2, 'Switzerland': 2}, 'group_name': 'Group 1'}, 'M-1950-07': {'teams': {'Yugoslavia': 4, 'Mexico': 1}, 'group_name': 'Group 1'}, 'M-1950-08': {'teams': {'Spain': 2, 'Chile': 0}, 'group_name': 'Group 2'}, 'M-1950-10': {'teams': {'Sweden': 2, 'Paraguay': 2}, 'group_name': 'Group 3'}, 'M-1950-09': {'teams': {'United States': 1, 'England': 0}, 'group_name': 'Group 2'}, 'M-1950-11': {'teams': {'Brazil': 2, 'Yugoslavia': 0}, 'group_name': 'Group 1'}, 'M-1950-16': {'teams': {'Switzerland': 2, 'Mexico': 1}, 'group_name': 'Group 1'}, 'M-1950-14': {'teams': {'Italy': 2, 'Paraguay': 0}, 'group_name': 'Group 3'}, 'M-1950-15': {'teams': {'Uruguay': 8, 'Bolivia': 0}, 'group_name': 'Group 4'}, 'M-1950-12': {'teams': {'Chile': 5, 'United States': 2}, 'group_name': 'Group 2'}, 'M-1950-13': {'teams': {'Spain': 1, 'England': 0}, 'group_name': 'Group 2'}, 'M-1950-17': {'teams': {'Brazil': 7, 'Sweden': 1}, 'group_name': 'not applicable'}, 'M-1950-18': {'teams': {'Uruguay': 2, 'Spain': 2}, 'group_name': 'not applicable'}, 'M-1950-20': {'teams': {'Uruguay': 3, 'Sweden': 2}, 'group_name': 'not applicable'}, 'M-1950-19': {'teams': {'Brazil': 6, 'Spain': 1}, 'group_name': 'not applicable'}, 'M-1950-21': {'teams': {'Sweden': 3, 'Spain': 1}, 'group_name': 'not applicable'}, 'M-1950-22': {'teams': {'Uruguay': 2, 'Brazil': 1}, 'group_name': 'not applicable'}, 'M-1954-02': {'teams': {'Yugoslavia': 1, 'France': 0}, 'group_name': 'Group 1'}, 'M-1954-01': {'teams': {'Brazil': 5, 'Mexico': 0}, 'group_name': 'Group 1'}, 'M-1954-03': {'teams': {'Austria': 1, 'Scotland': 0}, 'group_name': 'Group 3'}, 'M-1954-04': {'teams': {'Uruguay': 2, 'Czechoslovakia': 0}, 'group_name': 'Group 3'}, 'M-1954-07': {'teams': {'West Germany': 4, 'Turkey': 1}, 'group_name': 'Group 2'}, 'M-1954-08': {'teams': {'England': 4, 'Belgium': 4}, 'group_name': 'Group 4'}, 'M-1954-06': {'teams': {'Hungary': 9, 'South Korea': 0}, 'group_name': 'Group 2'}, 'M-1954-05': {'teams': {'Switzerland': 2, 'Italy': 1}, 'group_name': 'Group 4'}, 'M-1954-11': {'teams': {'Austria': 5, 'Czechoslovakia': 0}, 'group_name': 'Group 3'}, 'M-1954-09': {'teams': {'Uruguay': 7, 'Scotland': 0}, 'group_name': 'Group 3'}, 'M-1954-12': {'teams': {'France': 3, 'Mexico': 2}, 'group_name': 'Group 1'}, 'M-1954-10': {'teams': {'Brazil': 1, 'Yugoslavia': 1}, 'group_name': 'Group 1'}, 'M-1954-13': {'teams': {'Hungary': 8, 'West Germany': 3}, 'group_name': 'Group 2'}, 'M-1954-14': {'teams': {'Turkey': 7, 'South Korea': 0}, 'group_name': 'Group 2'}, 'M-1954-15': {'teams': {'Italy': 4, 'Belgium': 1}, 'group_name': 'Group 4'}, 'M-1954-16': {'teams': {'England': 2, 'Switzerland': 0}, 'group_name': 'Group 4'}, 'M-1954-17': {'teams': {'West Germany': 7, 'Turkey': 2}, 'group_name': 'Group 2'}, 'M-1954-18': {'teams': {'Switzerland': 4, 'Italy': 1}, 'group_name': 'Group 4'}, 'M-1954-20': {'teams': {'Uruguay': 4, 'England': 2}, 'group_name': 'not applicable'}, 'M-1954-19': {'teams': {'Austria': 7, 'Switzerland': 5}, 'group_name': 'not applicable'}, 'M-1954-21': {'teams': {'Hungary': 4, 'Brazil': 2}, 'group_name': 'not applicable'}, 'M-1954-22': {'teams': {'West Germany': 2, 'Yugoslavia': 0}, 'group_name': 'not applicable'}, 'M-1954-23': {'teams': {'Hungary': 4, 'Uruguay': 2}, 'group_name': 'not applicable'}, 'M-1954-24': {'teams': {'West Germany': 6, 'Austria': 1}, 'group_name': 'not applicable'}, 'M-1954-25': {'teams': {'Austria': 3, 'Uruguay': 1}, 'group_name': 'not applicable'}, 'M-1954-26': {'teams': {'West Germany': 3, 'Hungary': 2}, 'group_name': 'not applicable'}, 'M-1958-02': {'teams': {'Argentina': 1, 'West Germany': 3}, 'group_name': 'Group 1'}, 'M-1958-06': {'teams': {'Hungary': 1, 'Wales': 1}, 'group_name': 'Group 3'}, 'M-1958-05': {'teams': {'Yugoslavia': 1, 'Scotland': 1}, 'group_name': 'Group 2'}, 'M-1958-08': {'teams': {'Soviet Union': 2, 'England': 2}, 'group_name': 'Group 4'}, 'M-1958-01': {'teams': {'Sweden': 3, 'Mexico': 0}, 'group_name': 'Group 3'}, 'M-1958-04': {'teams': {'France': 7, 'Paraguay': 3}, 'group_name': 'Group 2'}, 'M-1958-03': {'teams': {'Northern Ireland': 1, 'Czechoslovakia': 0}, 'group_name': 'Group 1'}, 'M-1958-07': {'teams': {'Brazil': 3, 'Austria': 0}, 'group_name': 'Group 4'}, 'M-1958-09': {'teams': {'Argentina': 3, 'Northern Ireland': 1}, 'group_name': 'Group 1'}, 'M-1958-11': {'teams': {'Paraguay': 3, 'Scotland': 2}, 'group_name': 'Group 2'}, 'M-1958-12': {'teams': {'Yugoslavia': 3, 'France': 2}, 'group_name': 'Group 2'}, 'M-1958-15': {'teams': {'Soviet Union': 2, 'Austria': 0}, 'group_name': 'Group 4'}, 'M-1958-10': {'teams': {'West Germany': 2, 'Czechoslovakia': 2}, 'group_name': 'Group 1'}, 'M-1958-13': {'teams': {'Mexico': 1, 'Wales': 1}, 'group_name': 'Group 3'}, 'M-1958-16': {'teams': {'Sweden': 2, 'Hungary': 1}, 'group_name': 'Group 3'}, 'M-1958-23': {'teams': {'Brazil': 2, 'Soviet Union': 0}, 'group_name': 'Group 4'}, 'M-1958-18': {'teams': {'Czechoslovakia': 6, 'Argentina': 1}, 'group_name': 'Group 1'}, 'M-1958-24': {'teams': {'England': 2, 'Austria': 2}, 'group_name': 'Group 4'}, 'M-1958-19': {'teams': {'West Germany': 2, 'Northern Ireland': 2}, 'group_name': 'Group 1'}, 'M-1958-21': {'teams': {'Paraguay': 3, 'Yugoslavia': 3}, 'group_name': 'Group 2'}, 'M-1958-22': {'teams': {'Hungary': 4, 'Mexico': 0}, 'group_name': 'Group 3'}, 'M-1958-20': {'teams': {'France': 2, 'Scotland': 1}, 'group_name': 'Group 2'}, 'M-1958-25': {'teams': {'Northern Ireland': 2, 'Czechoslovakia': 1}, 'group_name': 'Group 1'}, 'M-1958-26': {'teams': {'Wales': 2, 'Hungary': 1}, 'group_name': 'Group 3'}, 'M-1958-27': {'teams': {'Soviet Union': 1, 'England': 0}, 'group_name': 'Group 4'}, 'M-1958-31': {'teams': {'West Germany': 1, 'Yugoslavia': 0}, 'group_name': 'not applicable'}, 'M-1958-29': {'teams': {'France': 4, 'Northern Ireland': 0}, 'group_name': 'not applicable'}, 'M-1958-30': {'teams': {'Sweden': 2, 'Soviet Union': 0}, 'group_name': 'not applicable'}, 'M-1958-28': {'teams': {'Brazil': 1, 'Wales': 0}, 'group_name': 'not applicable'}, 'M-1958-32': {'teams': {'Brazil': 5, 'France': 2}, 'group_name': 'not applicable'}, 'M-1958-33': {'teams': {'Sweden': 3, 'West Germany': 1}, 'group_name': 'not applicable'}, 'M-1958-34': {'teams': {'France': 6, 'West Germany': 3}, 'group_name': 'not applicable'}, 'M-1958-35': {'teams': {'Brazil': 5, 'Sweden': 2}, 'group_name': 'not applicable'}, 'M-1962-04': {'teams': {'Argentina': 1, 'Bulgaria': 0}, 'group_name': 'Group 4'}, 'M-1962-02': {'teams': {'Chile': 3, 'Switzerland': 1}, 'group_name': 'Group 2'}, 'M-1962-01': {'teams': {'Uruguay': 2, 'Colombia': 1}, 'group_name': 'Group 1'}, 'M-1962-03': {'teams': {'Brazil': 2, 'Mexico': 0}, 'group_name': 'Group 3'}, 'M-1962-08': {'teams': {'Hungary': 2, 'England': 1}, 'group_name': 'Group 4'}, 'M-1962-05': {'teams': {'Soviet Union': 2, 'Yugoslavia': 0}, 'group_name': 'Group 1'}, 'M-1962-07': {'teams': {'Czechoslovakia': 1, 'Spain': 0}, 'group_name': 'Group 3'}, 'M-1962-12': {'teams': {'England': 3, 'Argentina': 1}, 'group_name': 'Group 4'}, 'M-1962-09': {'teams': {'Yugoslavia': 3, 'Uruguay': 1}, 'group_name': 'Group 1'}, 'M-1962-10': {'teams': {'Chile': 2, 'Italy': 0}, 'group_name': 'Group 2'}, 'M-1962-16': {'teams': {'Hungary': 6, 'Bulgaria': 1}, 'group_name': 'Group 4'}, 'M-1962-13': {'teams': {'Soviet Union': 4, 'Colombia': 4}, 'group_name': 'Group 1'}, 'M-1962-14': {'teams': {'West Germany': 2, 'Switzerland': 1}, 'group_name': 'Group 2'}, 'M-1962-15': {'teams': {'Spain': 1, 'Mexico': 0}, 'group_name': 'Group 3'}, 'M-1962-18': {'teams': {'West Germany': 2, 'Chile': 0}, 'group_name': 'Group 2'}, 'M-1962-19': {'teams': {'Brazil': 2, 'Spain': 1}, 'group_name': 'Group 3'}, 'M-1962-17': {'teams': {'Soviet Union': 2, 'Uruguay': 1}, 'group_name': 'Group 1'}, 'M-1962-23': {'teams': {'Mexico': 3, 'Czechoslovakia': 1}, 'group_name': 'Group 3'}, 'M-1962-22': {'teams': {'Italy': 3, 'Switzerland': 0}, 'group_name': 'Group 2'}, 'M-1962-21': {'teams': {'Yugoslavia': 5, 'Colombia': 0}, 'group_name': 'Group 1'}, 'M-1962-26': {'teams': {'Chile': 2, 'Soviet Union': 1}, 'group_name': 'not applicable'}, 'M-1962-27': {'teams': {'Czechoslovakia': 1, 'Hungary': 0}, 'group_name': 'not applicable'}, 'M-1962-25': {'teams': {'Brazil': 3, 'England': 1}, 'group_name': 'not applicable'}, 'M-1962-28': {'teams': {'Yugoslavia': 1, 'West Germany': 0}, 'group_name': 'not applicable'}, 'M-1962-29': {'teams': {'Brazil': 4, 'Chile': 2}, 'group_name': 'not applicable'}, 'M-1962-30': {'teams': {'Czechoslovakia': 3, 'Yugoslavia': 1}, 'group_name': 'not applicable'}, 'M-1962-31': {'teams': {'Chile': 1, 'Yugoslavia': 0}, 'group_name': 'not applicable'}, 'M-1962-32': {'teams': {'Brazil': 3, 'Czechoslovakia': 1}, 'group_name': 'not applicable'}, 'M-1966-03': {'teams': {'Brazil': 2, 'Bulgaria': 0}, 'group_name': 'Group 3'}, 'M-1966-02': {'teams': {'West Germany': 5, 'Switzerland': 0}, 'group_name': 'Group 2'}, 'M-1966-04': {'teams': {'Soviet Union': 3, 'North Korea': 0}, 'group_name': 'Group 4'}, 'M-1966-07': {'teams': {'Portugal': 3, 'Hungary': 1}, 'group_name': 'Group 3'}, 'M-1966-08': {'teams': {'Italy': 2, 'Chile': 0}, 'group_name': 'Group 4'}, 'M-1966-05': {'teams': {'France': 1, 'Mexico': 1}, 'group_name': 'Group 1'}, 'M-1966-06': {'teams': {'Argentina': 2, 'Spain': 1}, 'group_name': 'Group 2'}, 'M-1966-11': {'teams': {'Hungary': 3, 'Brazil': 1}, 'group_name': 'Group 3'}, 'M-1966-09': {'teams': {'Uruguay': 2, 'France': 1}, 'group_name': 'Group 1'}, 'M-1966-12': {'teams': {'Chile': 1, 'North Korea': 1}, 'group_name': 'Group 4'}, 'M-1966-10': {'teams': {'Spain': 2, 'Switzerland': 1}, 'group_name': 'Group 2'}, 'M-1966-14': {'teams': {'Portugal': 3, 'Bulgaria': 0}, 'group_name': 'Group 3'}, 'M-1966-16': {'teams': {'England': 2, 'Mexico': 0}, 'group_name': 'Group 1'}, 'M-1966-15': {'teams': {'Soviet Union': 1, 'Italy': 0}, 'group_name': 'Group 4'}, 'M-1966-19': {'teams': {'Portugal': 3, 'Brazil': 1}, 'group_name': 'Group 3'}, 'M-1966-20': {'teams': {'North Korea': 1, 'Italy': 0}, 'group_name': 'Group 4'}, 'M-1966-18': {'teams': {'Argentina': 2, 'Switzerland': 0}, 'group_name': 'Group 2'}, 'M-1966-23': {'teams': {'Hungary': 3, 'Bulgaria': 1}, 'group_name': 'Group 3'}, 'M-1966-22': {'teams': {'West Germany': 2, 'Spain': 1}, 'group_name': 'Group 2'}, 'M-1966-24': {'teams': {'Soviet Union': 2, 'Chile': 1}, 'group_name': 'Group 4'}, 'M-1966-21': {'teams': {'England': 2, 'France': 0}, 'group_name': 'Group 1'}, 'M-1966-26': {'teams': {'Portugal': 5, 'North Korea': 3}, 'group_name': 'not applicable'}, 'M-1966-27': {'teams': {'Soviet Union': 2, 'Hungary': 1}, 'group_name': 'not applicable'}, 'M-1966-28': {'teams': {'West Germany': 4, 'Uruguay': 0}, 'group_name': 'not applicable'}, 'M-1966-25': {'teams': {'England': 1, 'Argentina': 0}, 'group_name': 'not applicable'}, 'M-1966-29': {'teams': {'West Germany': 2, 'Soviet Union': 1}, 'group_name': 'not applicable'}, 'M-1966-30': {'teams': {'England': 2, 'Portugal': 1}, 'group_name': 'not applicable'}, 'M-1966-31': {'teams': {'Portugal': 2, 'Soviet Union': 1}, 'group_name': 'not applicable'}, 'M-1966-32': {'teams': {'England': 4, 'West Germany': 2}, 'group_name': 'not applicable'}, 'M-1970-04': {'teams': {'Peru': 3, 'Bulgaria': 2}, 'group_name': 'Group 4'}, 'M-1970-02': {'teams': {'Uruguay': 2, 'Israel': 0}, 'group_name': 'Group 2'}, 'M-1970-03': {'teams': {'England': 1, 'Romania': 0}, 'group_name': 'Group 3'}, 'M-1970-06': {'teams': {'Italy': 1, 'Sweden': 0}, 'group_name': 'Group 2'}, 'M-1970-07': {'teams': {'Brazil': 4, 'Czechoslovakia': 1}, 'group_name': 'Group 3'}, 'M-1970-05': {'teams': {'Belgium': 3, 'El Salvador': 0}, 'group_name': 'Group 1'}, 'M-1970-08': {'teams': {'West Germany': 2, 'Morocco': 1}, 'group_name': 'Group 4'}, 'M-1970-11': {'teams': {'Romania': 2, 'Czechoslovakia': 1}, 'group_name': 'Group 3'}, 'M-1970-09': {'teams': {'Soviet Union': 4, 'Belgium': 1}, 'group_name': 'Group 1'}, 'M-1970-12': {'teams': {'Peru': 3, 'Morocco': 0}, 'group_name': 'Group 4'}, 'M-1970-16': {'teams': {'West Germany': 5, 'Bulgaria': 2}, 'group_name': 'Group 4'}, 'M-1970-13': {'teams': {'Mexico': 4, 'El Salvador': 0}, 'group_name': 'Group 1'}, 'M-1970-14': {'teams': {'Sweden': 1, 'Israel': 1}, 'group_name': 'Group 2'}, 'M-1970-15': {'teams': {'Brazil': 1, 'England': 0}, 'group_name': 'Group 3'}, 'M-1970-19': {'teams': {'Brazil': 3, 'Romania': 2}, 'group_name': 'Group 3'}, 'M-1970-20': {'teams': {'West Germany': 3, 'Peru': 1}, 'group_name': 'Group 4'}, 'M-1970-17': {'teams': {'Soviet Union': 2, 'El Salvador': 0}, 'group_name': 'Group 1'}, 'M-1970-18': {'teams': {'Sweden': 1, 'Uruguay': 0}, 'group_name': 'Group 2'}, 'M-1970-21': {'teams': {'Mexico': 1, 'Belgium': 0}, 'group_name': 'Group 1'}, 'M-1970-24': {'teams': {'Bulgaria': 1, 'Morocco': 1}, 'group_name': 'Group 4'}, 'M-1970-23': {'teams': {'England': 1, 'Czechoslovakia': 0}, 'group_name': 'Group 3'}, 'M-1970-25': {'teams': {'Brazil': 4, 'Peru': 2}, 'group_name': 'not applicable'}, 'M-1970-26': {'teams': {'Italy': 4, 'Mexico': 1}, 'group_name': 'not applicable'}, 'M-1970-28': {'teams': {'West Germany': 3, 'England': 2}, 'group_name': 'not applicable'}, 'M-1970-27': {'teams': {'Soviet Union': 0, 'Uruguay': 1}, 'group_name': 'not applicable'}, 'M-1970-30': {'teams': {'Italy': 4, 'West Germany': 3}, 'group_name': 'not applicable'}, 'M-1970-29': {'teams': {'Brazil': 3, 'Uruguay': 1}, 'group_name': 'not applicable'}, 'M-1970-31': {'teams': {'West Germany': 1, 'Uruguay': 0}, 'group_name': 'not applicable'}, 'M-1970-32': {'teams': {'Brazil': 4, 'Italy': 1}, 'group_name': 'not applicable'}, 'M-1974-02': {'teams': {'West Germany': 1, 'Chile': 0}, 'group_name': 'Group 1'}, 'M-1974-04': {'teams': {'Zaire': 0, 'Scotland': 2}, 'group_name': 'Group 2'}, 'M-1974-03': {'teams': {'East Germany': 2, 'Australia': 0}, 'group_name': 'Group 1'}, 'M-1974-06': {'teams': {'Uruguay': 0, 'Netherlands': 2}, 'group_name': 'Group 3'}, 'M-1974-08': {'teams': {'Poland': 3, 'Argentina': 2}, 'group_name': 'Group 4'}, 'M-1974-07': {'teams': {'Italy': 3, 'Haiti': 1}, 'group_name': 'Group 4'}, 'M-1974-12': {'teams': {'Yugoslavia': 9, 'Zaire': 0}, 'group_name': 'Group 2'}, 'M-1974-09': {'teams': {'Australia': 0, 'West Germany': 3}, 'group_name': 'Group 1'}, 'M-1974-10': {'teams': {'Chile': 1, 'East Germany': 1}, 'group_name': 'Group 1'}, 'M-1974-16': {'teams': {'Haiti': 0, 'Poland': 7}, 'group_name': 'Group 4'}, 'M-1974-15': {'teams': {'Argentina': 1, 'Italy': 1}, 'group_name': 'Group 4'}, 'M-1974-13': {'teams': {'Bulgaria': 1, 'Uruguay': 1}, 'group_name': 'Group 3'}, 'M-1974-19': {'teams': {'Zaire': 0, 'Brazil': 3}, 'group_name': 'Group 2'}, 'M-1974-20': {'teams': {'East Germany': 1, 'West Germany': 0}, 'group_name': 'Group 1'}, 'M-1974-18': {'teams': {'Scotland': 1, 'Yugoslavia': 1}, 'group_name': 'Group 2'}, 'M-1974-21': {'teams': {'Bulgaria': 1, 'Netherlands': 4}, 'group_name': 'Group 3'}, 'M-1974-23': {'teams': {'Argentina': 4, 'Haiti': 1}, 'group_name': 'Group 4'}, 'M-1974-24': {'teams': {'Poland': 2, 'Italy': 1}, 'group_name': 'Group 4'}, 'M-1974-22': {'teams': {'Sweden': 3, 'Uruguay': 0}, 'group_name': 'Group 3'}, 'M-1974-27': {'teams': {'Netherlands': 4, 'Argentina': 0}, 'group_name': 'Group A'}, 'M-1974-25': {'teams': {'Yugoslavia': 0, 'West Germany': 2}, 'group_name': 'Group B'}, 'M-1974-28': {'teams': {'Sweden': 0, 'Poland': 1}, 'group_name': 'Group B'}, 'M-1974-26': {'teams': {'Brazil': 1, 'East Germany': 0}, 'group_name': 'Group A'}, 'M-1974-30': {'teams': {'East Germany': 0, 'Netherlands': 2}, 'group_name': 'Group A'}, 'M-1974-31': {'teams': {'Poland': 2, 'Yugoslavia': 1}, 'group_name': 'Group B'}, 'M-1974-32': {'teams': {'West Germany': 4, 'Sweden': 2}, 'group_name': 'Group B'}, 'M-1974-29': {'teams': {'Argentina': 1, 'Brazil': 2}, 'group_name': 'Group A'}, 'M-1974-34': {'teams': {'Argentina': 1, 'East Germany': 1}, 'group_name': 'Group A'}, 'M-1974-36': {'teams': {'Sweden': 2, 'Yugoslavia': 1}, 'group_name': 'Group B'}, 'M-1974-35': {'teams': {'Netherlands': 2, 'Brazil': 0}, 'group_name': 'Group A'}, 'M-1974-33': {'teams': {'Poland': 0, 'West Germany': 1}, 'group_name': 'Group B'}, 'M-1974-37': {'teams': {'Brazil': 0, 'Poland': 1}, 'group_name': 'not applicable'}, 'M-1974-38': {'teams': {'Netherlands': 1, 'West Germany': 2}, 'group_name': 'not applicable'}, 'M-1978-02': {'teams': {'Italy': 2, 'France': 1}, 'group_name': 'Group 1'}, 'M-1978-04': {'teams': {'Argentina': 2, 'Hungary': 1}, 'group_name': 'Group 1'}, 'M-1978-03': {'teams': {'Tunisia': 3, 'Mexico': 1}, 'group_name': 'Group 2'}, 'M-1978-05': {'teams': {'Austria': 2, 'Spain': 1}, 'group_name': 'Group 3'}, 'M-1978-08': {'teams': {'Peru': 3, 'Scotland': 1}, 'group_name': 'Group 4'}, 'M-1978-06': {'teams': {'Brazil': 1, 'Sweden': 1}, 'group_name': 'Group 3'}, 'M-1978-07': {'teams': {'Netherlands': 3, 'Iran': 0}, 'group_name': 'Group 4'}, 'M-1978-11': {'teams': {'West Germany': 6, 'Mexico': 0}, 'group_name': 'Group 2'}, 'M-1978-09': {'teams': {'Italy': 3, 'Hungary': 1}, 'group_name': 'Group 1'}, 'M-1978-10': {'teams': {'Poland': 1, 'Tunisia': 0}, 'group_name': 'Group 2'}, 'M-1978-12': {'teams': {'Argentina': 2, 'France': 1}, 'group_name': 'Group 1'}, 'M-1978-13': {'teams': {'Austria': 1, 'Sweden': 0}, 'group_name': 'Group 3'}, 'M-1978-16': {'teams': {'Scotland': 1, 'Iran': 1}, 'group_name': 'Group 4'}, 'M-1978-17': {'teams': {'France': 3, 'Hungary': 1}, 'group_name': 'Group 1'}, 'M-1978-18': {'teams': {'Poland': 3, 'Mexico': 1}, 'group_name': 'Group 2'}, 'M-1978-20': {'teams': {'Argentina': 0, 'Italy': 1}, 'group_name': 'Group 1'}, 'M-1978-23': {'teams': {'Peru': 4, 'Iran': 1}, 'group_name': 'Group 4'}, 'M-1978-24': {'teams': {'Scotland': 3, 'Netherlands': 2}, 'group_name': 'Group 4'}, 'M-1978-21': {'teams': {'Brazil': 1, 'Austria': 0}, 'group_name': 'Group 3'}, 'M-1978-22': {'teams': {'Spain': 1, 'Sweden': 0}, 'group_name': 'Group 3'}, 'M-1978-25': {'teams': {'Austria': 1, 'Netherlands': 5}, 'group_name': 'Group A'}, 'M-1978-27': {'teams': {'Brazil': 3, 'Peru': 0}, 'group_name': 'Group B'}, 'M-1978-28': {'teams': {'Argentina': 2, 'Poland': 0}, 'group_name': 'Group B'}, 'M-1978-31': {'teams': {'Netherlands': 2, 'West Germany': 2}, 'group_name': 'Group A'}, 'M-1978-30': {'teams': {'Italy': 1, 'Austria': 0}, 'group_name': 'Group A'}, 'M-1978-29': {'teams': {'Peru': 0, 'Poland': 1}, 'group_name': 'Group B'}, 'M-1978-35': {'teams': {'Brazil': 3, 'Poland': 1}, 'group_name': 'Group B'}, 'M-1978-33': {'teams': {'Austria': 3, 'West Germany': 2}, 'group_name': 'Group A'}, 'M-1978-34': {'teams': {'Italy': 1, 'Netherlands': 2}, 'group_name': 'Group A'}, 'M-1978-36': {'teams': {'Argentina': 6, 'Peru': 0}, 'group_name': 'Group B'}, 'M-1978-37': {'teams': {'Brazil': 2, 'Italy': 1}, 'group_name': 'not applicable'}, 'M-1978-38': {'teams': {'Argentina': 3, 'Netherlands': 1}, 'group_name': 'not applicable'}, 'M-1982-01': {'teams': {'Argentina': 0, 'Belgium': 1}, 'group_name': 'Group 3'}, 'M-1982-03': {'teams': {'Brazil': 2, 'Soviet Union': 1}, 'group_name': 'Group 6'}, 'M-1982-05': {'teams': {'Hungary': 10, 'El Salvador': 1}, 'group_name': 'Group 3'}, 'M-1982-06': {'teams': {'Scotland': 5, 'New Zealand': 2}, 'group_name': 'Group 6'}, 'M-1982-08': {'teams': {'England': 3, 'France': 1}, 'group_name': 'Group 4'}, 'M-1982-09': {'teams': {'Spain': 1, 'Honduras': 1}, 'group_name': 'Group 5'}, 'M-1982-07': {'teams': {'West Germany': 1, 'Algeria': 2}, 'group_name': 'Group 2'}, 'M-1982-11': {'teams': {'Czechoslovakia': 1, 'Kuwait': 1}, 'group_name': 'Group 4'}, 'M-1982-10': {'teams': {'Chile': 0, 'Austria': 1}, 'group_name': 'Group 2'}, 'M-1982-13': {'teams': {'Italy': 1, 'Peru': 1}, 'group_name': 'Group 1'}, 'M-1982-15': {'teams': {'Brazil': 4, 'Scotland': 1}, 'group_name': 'Group 6'}, 'M-1982-14': {'teams': {'Argentina': 4, 'Hungary': 1}, 'group_name': 'Group 3'}, 'M-1982-17': {'teams': {'Belgium': 1, 'El Salvador': 0}, 'group_name': 'Group 3'}, 'M-1982-18': {'teams': {'Soviet Union': 3, 'New Zealand': 0}, 'group_name': 'Group 6'}, 'M-1982-19': {'teams': {'West Germany': 4, 'Chile': 1}, 'group_name': 'Group 2'}, 'M-1982-21': {'teams': {'Spain': 2, 'Yugoslavia': 1}, 'group_name': 'Group 5'}, 'M-1982-20': {'teams': {'England': 2, 'Czechoslovakia': 0}, 'group_name': 'Group 4'}, 'M-1982-24': {'teams': {'Honduras': 1, 'Northern Ireland': 1}, 'group_name': 'Group 5'}, 'M-1982-23': {'teams': {'France': 4, 'Kuwait': 1}, 'group_name': 'Group 4'}, 'M-1982-22': {'teams': {'Algeria': 0, 'Austria': 2}, 'group_name': 'Group 2'}, 'M-1982-27': {'teams': {'Soviet Union': 2, 'Scotland': 2}, 'group_name': 'Group 6'}, 'M-1982-26': {'teams': {'Belgium': 1, 'Hungary': 1}, 'group_name': 'Group 3'}, 'M-1982-25': {'teams': {'Poland': 5, 'Peru': 1}, 'group_name': 'Group 1'}, 'M-1982-29': {'teams': {'Argentina': 2, 'El Salvador': 0}, 'group_name': 'Group 3'}, 'M-1982-30': {'teams': {'Brazil': 4, 'New Zealand': 0}, 'group_name': 'Group 6'}, 'M-1982-28': {'teams': {'Italy': 1, 'Cameroon': 1}, 'group_name': 'Group 1'}, 'M-1982-31': {'teams': {'Algeria': 3, 'Chile': 2}, 'group_name': 'Group 2'}, 'M-1982-32': {'teams': {'France': 1, 'Czechoslovakia': 1}, 'group_name': 'Group 4'}, 'M-1982-33': {'teams': {'Honduras': 0, 'Yugoslavia': 1}, 'group_name': 'Group 5'}, 'M-1982-34': {'teams': {'West Germany': 1, 'Austria': 0}, 'group_name': 'Group 2'}, 'M-1982-35': {'teams': {'England': 1, 'Kuwait': 0}, 'group_name': 'Group 4'}, 'M-1982-36': {'teams': {'Spain': 0, 'Northern Ireland': 1}, 'group_name': 'Group 5'}, 'M-1982-38': {'teams': {'Poland': 3, 'Belgium': 0}, 'group_name': 'Group 1'}, 'M-1982-37': {'teams': {'Austria': 0, 'France': 1}, 'group_name': 'Group 4'}, 'M-1982-39': {'teams': {'Italy': 2, 'Argentina': 1}, 'group_name': 'Group 3'}, 'M-1982-41': {'teams': {'Austria': 2, 'Northern Ireland': 2}, 'group_name': 'Group 4'}, 'M-1982-42': {'teams': {'Belgium': 0, 'Soviet Union': 1}, 'group_name': 'Group 1'}, 'M-1982-43': {'teams': {'Argentina': 1, 'Brazil': 3}, 'group_name': 'Group 3'}, 'M-1982-44': {'teams': {'West Germany': 2, 'Spain': 1}, 'group_name': 'Group 2'}, 'M-1982-45': {'teams': {'France': 4, 'Northern Ireland': 1}, 'group_name': 'Group 4'}, 'M-1982-47': {'teams': {'Italy': 3, 'Brazil': 2}, 'group_name': 'Group 3'}, 'M-1982-50': {'teams': {'West Germany': 3, 'France': 3}, 'group_name': 'not applicable'}, 'M-1982-49': {'teams': {'Poland': 0, 'Italy': 2}, 'group_name': 'not applicable'}, 'M-1982-51': {'teams': {'Poland': 3, 'France': 2}, 'group_name': 'not applicable'}, 'M-1982-52': {'teams': {'Italy': 3, 'West Germany': 1}, 'group_name': 'not applicable'}, 'M-1986-01': {'teams': {'Bulgaria': 1, 'Italy': 1}, 'group_name': 'Group A'}, 'M-1986-02': {'teams': {'Spain': 0, 'Brazil': 1}, 'group_name': 'Group D'}, 'M-1986-03': {'teams': {'Canada': 0, 'France': 1}, 'group_name': 'Group C'}, 'M-1986-05': {'teams': {'Soviet Union': 6, 'Hungary': 0}, 'group_name': 'Group C'}, 'M-1986-04': {'teams': {'Argentina': 3, 'South Korea': 1}, 'group_name': 'Group A'}, 'M-1986-08': {'teams': {'Algeria': 1, 'Northern Ireland': 1}, 'group_name': 'Group D'}, 'M-1986-07': {'teams': {'Belgium': 1, 'Mexico': 2}, 'group_name': 'Group B'}, 'M-1986-09': {'teams': {'Portugal': 1, 'England': 0}, 'group_name': 'Group F'}, 'M-1986-11': {'teams': {'Uruguay': 1, 'West Germany': 1}, 'group_name': 'Group E'}, 'M-1986-10': {'teams': {'Paraguay': 1, 'Iraq': 0}, 'group_name': 'Group B'}, 'M-1986-12': {'teams': {'Scotland': 0, 'Denmark': 1}, 'group_name': 'Group E'}, 'M-1986-13': {'teams': {'Italy': 1, 'Argentina': 1}, 'group_name': 'Group A'}, 'M-1986-15': {'teams': {'South Korea': 1, 'Bulgaria': 1}, 'group_name': 'Group A'}, 'M-1986-14': {'teams': {'France': 1, 'Soviet Union': 1}, 'group_name': 'Group C'}, 'M-1986-16': {'teams': {'Hungary': 2, 'Canada': 0}, 'group_name': 'Group C'}, 'M-1986-17': {'teams': {'Brazil': 1, 'Algeria': 0}, 'group_name': 'Group D'}, 'M-1986-20': {'teams': {'Northern Ireland': 1, 'Spain': 2}, 'group_name': 'Group D'}, 'M-1986-19': {'teams': {'Mexico': 1, 'Paraguay': 1}, 'group_name': 'Group B'}, 'M-1986-21': {'teams': {'Poland': 1, 'Portugal': 0}, 'group_name': 'Group F'}, 'M-1986-24': {'teams': {'Denmark': 6, 'Uruguay': 1}, 'group_name': 'Group E'}, 'M-1986-22': {'teams': {'Iraq': 1, 'Belgium': 2}, 'group_name': 'Group B'}, 'M-1986-23': {'teams': {'West Germany': 2, 'Scotland': 1}, 'group_name': 'Group E'}, 'M-1986-25': {'teams': {'Hungary': 0, 'France': 3}, 'group_name': 'Group C'}, 'M-1986-26': {'teams': {'Soviet Union': 2, 'Canada': 0}, 'group_name': 'Group C'}, 'M-1986-27': {'teams': {'Argentina': 2, 'Bulgaria': 0}, 'group_name': 'Group A'}, 'M-1986-28': {'teams': {'South Korea': 2, 'Italy': 3}, 'group_name': 'Group A'}, 'M-1986-31': {'teams': {'England': 3, 'Poland': 0}, 'group_name': 'Group F'}, 'M-1986-32': {'teams': {'Portugal': 1, 'Morocco': 3}, 'group_name': 'Group F'}, 'M-1986-30': {'teams': {'Paraguay': 2, 'Belgium': 2}, 'group_name': 'Group B'}, 'M-1986-29': {'teams': {'Iraq': 0, 'Mexico': 1}, 'group_name': 'Group B'}, 'M-1986-33': {'teams': {'Algeria': 0, 'Spain': 3}, 'group_name': 'Group D'}, 'M-1986-34': {'teams': {'Northern Ireland': 0, 'Brazil': 3}, 'group_name': 'Group D'}, 'M-1986-35': {'teams': {'Denmark': 2, 'West Germany': 0}, 'group_name': 'Group E'}, 'M-1986-38': {'teams': {'Soviet Union': 3, 'Belgium': 4}, 'group_name': 'not applicable'}, 'M-1986-37': {'teams': {'Mexico': 2, 'Bulgaria': 0}, 'group_name': 'not applicable'}, 'M-1986-39': {'teams': {'Brazil': 4, 'Poland': 0}, 'group_name': 'not applicable'}, 'M-1986-40': {'teams': {'Argentina': 1, 'Uruguay': 0}, 'group_name': 'not applicable'}, 'M-1986-41': {'teams': {'Italy': 0, 'France': 2}, 'group_name': 'not applicable'}, 'M-1986-42': {'teams': {'Morocco': 0, 'West Germany': 1}, 'group_name': 'not applicable'}, 'M-1986-43': {'teams': {'England': 3, 'Paraguay': 0}, 'group_name': 'not applicable'}, 'M-1986-44': {'teams': {'Denmark': 1, 'Spain': 5}, 'group_name': 'not applicable'}, 'M-1986-45': {'teams': {'Brazil': 1, 'France': 1}, 'group_name': 'not applicable'}, 'M-1986-48': {'teams': {'Spain': 1, 'Belgium': 1}, 'group_name': 'not applicable'}, 'M-1986-47': {'teams': {'Argentina': 2, 'England': 1}, 'group_name': 'not applicable'}, 'M-1986-49': {'teams': {'France': 0, 'West Germany': 2}, 'group_name': 'not applicable'}, 'M-1986-50': {'teams': {'Argentina': 2, 'Belgium': 0}, 'group_name': 'not applicable'}, 'M-1986-51': {'teams': {'Belgium': 2, 'France': 4}, 'group_name': 'not applicable'}, 'M-1986-52': {'teams': {'Argentina': 3, 'West Germany': 2}, 'group_name': 'not applicable'}, 'M-1990-01': {'teams': {'Argentina': 0, 'Cameroon': 1}, 'group_name': 'Group B'}, 'M-1990-02': {'teams': {'Soviet Union': 0, 'Romania': 2}, 'group_name': 'Group B'}, 'M-1990-03': {'teams': {'United Arab Emirates': 0, 'Colombia': 2}, 'group_name': 'Group D'}, 'M-1990-04': {'teams': {'Italy': 1, 'Austria': 0}, 'group_name': 'Group A'}, 'M-1990-05': {'teams': {'United States': 1, 'Czechoslovakia': 5}, 'group_name': 'Group A'}, 'M-1990-07': {'teams': {'West Germany': 4, 'Yugoslavia': 1}, 'group_name': 'Group D'}, 'M-1990-06': {'teams': {'Brazil': 2, 'Sweden': 1}, 'group_name': 'Group C'}, 'M-1990-09': {'teams': {'England': 1, 'Republic of Ireland': 1}, 'group_name': 'Group F'}, 'M-1990-08': {'teams': {'Costa Rica': 1, 'Scotland': 0}, 'group_name': 'Group C'}, 'M-1990-10': {'teams': {'Belgium': 2, 'South Korea': 0}, 'group_name': 'Group E'}, 'M-1990-11': {'teams': {'Netherlands': 1, 'Egypt': 1}, 'group_name': 'Group F'}, 'M-1990-13': {'teams': {'Argentina': 2, 'Soviet Union': 0}, 'group_name': 'Group B'}, 'M-1990-16': {'teams': {'Italy': 1, 'United States': 0}, 'group_name': 'Group A'}, 'M-1990-15': {'teams': {'Yugoslavia': 1, 'Colombia': 0}, 'group_name': 'Group D'}, 'M-1990-14': {'teams': {'Cameroon': 2, 'Romania': 1}, 'group_name': 'Group B'}, 'M-1990-17': {'teams': {'Austria': 0, 'Czechoslovakia': 1}, 'group_name': 'Group A'}, 'M-1990-18': {'teams': {'West Germany': 5, 'United Arab Emirates': 1}, 'group_name': 'Group D'}, 'M-1990-20': {'teams': {'Sweden': 1, 'Scotland': 2}, 'group_name': 'Group C'}, 'M-1990-19': {'teams': {'Brazil': 1, 'Costa Rica': 0}, 'group_name': 'Group C'}, 'M-1990-23': {'teams': {'Belgium': 3, 'Uruguay': 1}, 'group_name': 'Group E'}, 'M-1990-24': {'teams': {'South Korea': 1, 'Spain': 3}, 'group_name': 'Group E'}, 'M-1990-26': {'teams': {'Cameroon': 0, 'Soviet Union': 4}, 'group_name': 'Group B'}, 'M-1990-25': {'teams': {'Argentina': 1, 'Romania': 1}, 'group_name': 'Group B'}, 'M-1990-28': {'teams': {'Yugoslavia': 4, 'United Arab Emirates': 1}, 'group_name': 'Group D'}, 'M-1990-30': {'teams': {'Italy': 2, 'Czechoslovakia': 0}, 'group_name': 'Group A'}, 'M-1990-29': {'teams': {'Austria': 2, 'United States': 1}, 'group_name': 'Group A'}, 'M-1990-27': {'teams': {'West Germany': 1, 'Colombia': 1}, 'group_name': 'Group D'}, 'M-1990-32': {'teams': {'Sweden': 1, 'Costa Rica': 2}, 'group_name': 'Group C'}, 'M-1990-31': {'teams': {'Brazil': 1, 'Scotland': 0}, 'group_name': 'Group C'}, 'M-1990-36': {'teams': {'Republic of Ireland': 1, 'Netherlands': 1}, 'group_name': 'Group F'}, 'M-1990-33': {'teams': {'Belgium': 1, 'Spain': 2}, 'group_name': 'Group E'}, 'M-1990-35': {'teams': {'England': 1, 'Egypt': 0}, 'group_name': 'Group F'}, 'M-1990-34': {'teams': {'South Korea': 0, 'Uruguay': 1}, 'group_name': 'Group E'}, 'M-1990-38': {'teams': {'Czechoslovakia': 4, 'Costa Rica': 1}, 'group_name': 'not applicable'}, 'M-1990-37': {'teams': {'Cameroon': 2, 'Colombia': 1}, 'group_name': 'not applicable'}, 'M-1990-40': {'teams': {'West Germany': 2, 'Netherlands': 1}, 'group_name': 'not applicable'}, 'M-1990-39': {'teams': {'Brazil': 0, 'Argentina': 1}, 'group_name': 'not applicable'}, 'M-1990-42': {'teams': {'Italy': 2, 'Uruguay': 0}, 'group_name': 'not applicable'}, 'M-1990-43': {'teams': {'Spain': 1, 'Yugoslavia': 2}, 'group_name': 'not applicable'}, 'M-1990-44': {'teams': {'England': 1, 'Belgium': 0}, 'group_name': 'not applicable'}, 'M-1990-46': {'teams': {'Republic of Ireland': 0, 'Italy': 1}, 'group_name': 'not applicable'}, 'M-1990-47': {'teams': {'Czechoslovakia': 0, 'West Germany': 1}, 'group_name': 'not applicable'}, 'M-1990-48': {'teams': {'Cameroon': 2, 'England': 3}, 'group_name': 'not applicable'}, 'M-1990-49': {'teams': {'Argentina': 1, 'Italy': 1}, 'group_name': 'not applicable'}, 'M-1990-50': {'teams': {'West Germany': 1, 'England': 1}, 'group_name': 'not applicable'}, 'M-1990-51': {'teams': {'Italy': 2, 'England': 1}, 'group_name': 'not applicable'}, 'M-1990-52': {'teams': {'West Germany': 1, 'Argentina': 0}, 'group_name': 'not applicable'}, 'M-1994-02': {'teams': {'Spain': 2, 'South Korea': 2}, 'group_name': 'Group C'}, 'M-1994-01': {'teams': {'Germany': 1, 'Bolivia': 0}, 'group_name': 'Group C'}, 'M-1994-04': {'teams': {'Italy': 0, 'Republic of Ireland': 1}, 'group_name': 'Group E'}, 'M-1994-05': {'teams': {'Colombia': 1, 'Romania': 3}, 'group_name': 'Group A'}, 'M-1994-03': {'teams': {'United States': 1, 'Switzerland': 1}, 'group_name': 'Group A'}, 'M-1994-08': {'teams': {'Cameroon': 2, 'Sweden': 2}, 'group_name': 'Group B'}, 'M-1994-06': {'teams': {'Belgium': 1, 'Morocco': 0}, 'group_name': 'Group F'}, 'M-1994-07': {'teams': {'Norway': 1, 'Mexico': 0}, 'group_name': 'Group E'}, 'M-1994-10': {'teams': {'Netherlands': 2, 'Saudi Arabia': 1}, 'group_name': 'Group F'}, 'M-1994-09': {'teams': {'Brazil': 2, 'Russia': 0}, 'group_name': 'Group B'}, 'M-1994-11': {'teams': {'Argentina': 4, 'Greece': 0}, 'group_name': 'Group D'}, 'M-1994-12': {'teams': {'Germany': 1, 'Spain': 1}, 'group_name': 'Group C'}, 'M-1994-13': {'teams': {'Nigeria': 3, 'Bulgaria': 0}, 'group_name': 'Group D'}, 'M-1994-14': {'teams': {'Romania': 1, 'Switzerland': 4}, 'group_name': 'Group A'}, 'M-1994-15': {'teams': {'United States': 2, 'Colombia': 1}, 'group_name': 'Group A'}, 'M-1994-16': {'teams': {'Italy': 1, 'Norway': 0}, 'group_name': 'Group E'}, 'M-1994-20': {'teams': {'Sweden': 3, 'Russia': 1}, 'group_name': 'Group B'}, 'M-1994-19': {'teams': {'Brazil': 3, 'Cameroon': 0}, 'group_name': 'Group B'}, 'M-1994-18': {'teams': {'Mexico': 2, 'Republic of Ireland': 1}, 'group_name': 'Group E'}, 'M-1994-22': {'teams': {'Saudi Arabia': 2, 'Morocco': 1}, 'group_name': 'Group F'}, 'M-1994-23': {'teams': {'Argentina': 2, 'Nigeria': 1}, 'group_name': 'Group D'}, 'M-1994-21': {'teams': {'Belgium': 1, 'Netherlands': 0}, 'group_name': 'Group F'}, 'M-1994-24': {'teams': {'Bulgaria': 4, 'Greece': 0}, 'group_name': 'Group D'}, 'M-1994-26': {'teams': {'United States': 0, 'Romania': 1}, 'group_name': 'Group A'}, 'M-1994-25': {'teams': {'Switzerland': 0, 'Colombia': 2}, 'group_name': 'Group A'}, 'M-1994-28': {'teams': {'Germany': 3, 'South Korea': 2}, 'group_name': 'Group C'}, 'M-1994-27': {'teams': {'Bolivia': 1, 'Spain': 3}, 'group_name': 'Group C'}, 'M-1994-31': {'teams': {'Russia': 6, 'Cameroon': 1}, 'group_name': 'Group B'}, 'M-1994-32': {'teams': {'Brazil': 1, 'Sweden': 1}, 'group_name': 'Group B'}, 'M-1994-29': {'teams': {'Italy': 1, 'Mexico': 1}, 'group_name': 'Group E'}, 'M-1994-33': {'teams': {'Belgium': 0, 'Saudi Arabia': 1}, 'group_name': 'Group F'}, 'M-1994-34': {'teams': {'Morocco': 1, 'Netherlands': 2}, 'group_name': 'Group F'}, 'M-1994-36': {'teams': {'Greece': 0, 'Nigeria': 2}, 'group_name': 'Group D'}, 'M-1994-35': {'teams': {'Argentina': 0, 'Bulgaria': 2}, 'group_name': 'Group D'}, 'M-1994-37': {'teams': {'Germany': 3, 'Belgium': 2}, 'group_name': 'not applicable'}, 'M-1994-38': {'teams': {'Spain': 3, 'Switzerland': 0}, 'group_name': 'not applicable'}, 'M-1994-39': {'teams': {'Saudi Arabia': 1, 'Sweden': 3}, 'group_name': 'not applicable'}, 'M-1994-40': {'teams': {'Romania': 3, 'Argentina': 2}, 'group_name': 'not applicable'}, 'M-1994-41': {'teams': {'Netherlands': 2, 'Republic of Ireland': 0}, 'group_name': 'not applicable'}, 'M-1994-42': {'teams': {'Brazil': 1, 'United States': 0}, 'group_name': 'not applicable'}, 'M-1994-44': {'teams': {'Mexico': 1, 'Bulgaria': 1}, 'group_name': 'not applicable'}, 'M-1994-43': {'teams': {'Nigeria': 1, 'Italy': 2}, 'group_name': 'not applicable'}, 'M-1994-45': {'teams': {'Italy': 2, 'Spain': 1}, 'group_name': 'not applicable'}, 'M-1994-46': {'teams': {'Netherlands': 2, 'Brazil': 3}, 'group_name': 'not applicable'}, 'M-1994-47': {'teams': {'Bulgaria': 2, 'Germany': 1}, 'group_name': 'not applicable'}, 'M-1994-48': {'teams': {'Romania': 2, 'Sweden': 2}, 'group_name': 'not applicable'}, 'M-1994-49': {'teams': {'Bulgaria': 1, 'Italy': 2}, 'group_name': 'not applicable'}, 'M-1994-50': {'teams': {'Sweden': 0, 'Brazil': 1}, 'group_name': 'not applicable'}, 'M-1994-51': {'teams': {'Sweden': 4, 'Bulgaria': 0}, 'group_name': 'not applicable'}, 'M-1998-01': {'teams': {'Brazil': 2, 'Scotland': 1}, 'group_name': 'Group A'}, 'M-1998-02': {'teams': {'Morocco': 2, 'Norway': 2}, 'group_name': 'Group A'}, 'M-1998-03': {'teams': {'Italy': 2, 'Chile': 2}, 'group_name': 'Group B'}, 'M-1998-04': {'teams': {'Cameroon': 1, 'Austria': 1}, 'group_name': 'Group B'}, 'M-1998-07': {'teams': {'France': 3, 'South Africa': 0}, 'group_name': 'Group C'}, 'M-1998-06': {'teams': {'Saudi Arabia': 0, 'Denmark': 1}, 'group_name': 'Group C'}, 'M-1998-08': {'teams': {'Spain': 2, 'Nigeria': 3}, 'group_name': 'Group D'}, 'M-1998-09': {'teams': {'South Korea': 1, 'Mexico': 3}, 'group_name': 'Group E'}, 'M-1998-13': {'teams': {'Jamaica': 1, 'Croatia': 3}, 'group_name': 'Group H'}, 'M-1998-11': {'teams': {'Argentina': 1, 'Japan': 0}, 'group_name': 'Group H'}, 'M-1998-12': {'teams': {'Yugoslavia': 1, 'Iran': 0}, 'group_name': 'Group F'}, 'M-1998-16': {'teams': {'Germany': 2, 'United States': 0}, 'group_name': 'Group F'}, 'M-1998-14': {'teams': {'England': 2, 'Tunisia': 0}, 'group_name': 'Group G'}, 'M-1998-15': {'teams': {'Romania': 1, 'Colombia': 0}, 'group_name': 'Group G'}, 'M-1998-18': {'teams': {'Brazil': 3, 'Morocco': 0}, 'group_name': 'Group A'}, 'M-1998-17': {'teams': {'Scotland': 1, 'Norway': 1}, 'group_name': 'Group A'}, 'M-1998-20': {'teams': {'Italy': 3, 'Cameroon': 0}, 'group_name': 'Group B'}, 'M-1998-19': {'teams': {'Chile': 1, 'Austria': 1}, 'group_name': 'Group B'}, 'M-1998-21': {'teams': {'South Africa': 1, 'Denmark': 1}, 'group_name': 'Group C'}, 'M-1998-22': {'teams': {'France': 4, 'Saudi Arabia': 0}, 'group_name': 'Group C'}, 'M-1998-23': {'teams': {'Nigeria': 1, 'Bulgaria': 0}, 'group_name': 'Group D'}, 'M-1998-27': {'teams': {'Netherlands': 5, 'South Korea': 0}, 'group_name': 'Group E'}, 'M-1998-26': {'teams': {'Belgium': 2, 'Mexico': 2}, 'group_name': 'Group E'}, 'M-1998-25': {'teams': {'Japan': 0, 'Croatia': 1}, 'group_name': 'Group H'}, 'M-1998-28': {'teams': {'Germany': 2, 'Yugoslavia': 2}, 'group_name': 'Group F'}, 'M-1998-29': {'teams': {'Argentina': 5, 'Jamaica': 0}, 'group_name': 'Group H'}, 'M-1998-30': {'teams': {'United States': 1, 'Iran': 2}, 'group_name': 'Group F'}, 'M-1998-32': {'teams': {'Romania': 2, 'England': 1}, 'group_name': 'Group G'}, 'M-1998-31': {'teams': {'Colombia': 1, 'Tunisia': 0}, 'group_name': 'Group G'}, 'M-1998-33': {'teams': {'Chile': 1, 'Cameroon': 1}, 'group_name': 'Group B'}, 'M-1998-36': {'teams': {'Scotland': 0, 'Morocco': 3}, 'group_name': 'Group A'}, 'M-1998-34': {'teams': {'Italy': 2, 'Austria': 1}, 'group_name': 'Group B'}, 'M-1998-35': {'teams': {'Brazil': 1, 'Norway': 2}, 'group_name': 'Group A'}, 'M-1998-39': {'teams': {'Nigeria': 1, 'Paraguay': 3}, 'group_name': 'Group D'}, 'M-1998-40': {'teams': {'Spain': 6, 'Bulgaria': 1}, 'group_name': 'Group D'}, 'M-1998-37': {'teams': {'France': 2, 'Denmark': 1}, 'group_name': 'Group C'}, 'M-1998-38': {'teams': {'South Africa': 2, 'Saudi Arabia': 2}, 'group_name': 'Group C'}, 'M-1998-42': {'teams': {'Netherlands': 2, 'Mexico': 2}, 'group_name': 'Group E'}, 'M-1998-44': {'teams': {'United States': 0, 'Yugoslavia': 1}, 'group_name': 'Group F'}, 'M-1998-41': {'teams': {'Belgium': 1, 'South Korea': 1}, 'group_name': 'Group E'}, 'M-1998-43': {'teams': {'Germany': 2, 'Iran': 0}, 'group_name': 'Group F'}, 'M-1998-48': {'teams': {'Romania': 1, 'Tunisia': 1}, 'group_name': 'Group G'}, 'M-1998-47': {'teams': {'Colombia': 0, 'England': 2}, 'group_name': 'Group G'}, 'M-1998-45': {'teams': {'Argentina': 1, 'Croatia': 0}, 'group_name': 'Group H'}, 'M-1998-46': {'teams': {'Japan': 1, 'Jamaica': 2}, 'group_name': 'Group H'}, 'M-1998-50': {'teams': {'Brazil': 4, 'Chile': 1}, 'group_name': 'not applicable'}, 'M-1998-49': {'teams': {'Italy': 1, 'Norway': 0}, 'group_name': 'not applicable'}, 'M-1998-52': {'teams': {'Nigeria': 1, 'Denmark': 4}, 'group_name': 'not applicable'}, 'M-1998-51': {'teams': {'France': 1, 'Paraguay': 0}, 'group_name': 'not applicable'}, 'M-1998-54': {'teams': {'Netherlands': 2, 'Yugoslavia': 1}, 'group_name': 'not applicable'}, 'M-1998-53': {'teams': {'Germany': 2, 'Mexico': 1}, 'group_name': 'not applicable'}, 'M-1998-56': {'teams': {'Argentina': 2, 'England': 2}, 'group_name': 'not applicable'}, 'M-1998-55': {'teams': {'Romania': 0, 'Croatia': 1}, 'group_name': 'not applicable'}, 'M-1998-58': {'teams': {'Brazil': 3, 'Denmark': 2}, 'group_name': 'not applicable'}, 'M-1998-59': {'teams': {'Netherlands': 2, 'Argentina': 1}, 'group_name': 'not applicable'}, 'M-1998-60': {'teams': {'Germany': 0, 'Croatia': 3}, 'group_name': 'not applicable'}, 'M-1998-61': {'teams': {'Brazil': 1, 'Netherlands': 1}, 'group_name': 'not applicable'}, 'M-1998-62': {'teams': {'France': 2, 'Croatia': 1}, 'group_name': 'not applicable'}, 'M-1998-63': {'teams': {'Netherlands': 1, 'Croatia': 2}, 'group_name': 'not applicable'}, 'M-1998-64': {'teams': {'Brazil': 0, 'France': 3}, 'group_name': 'not applicable'}, 'M-2002-01': {'teams': {'France': 0, 'Senegal': 1}, 'group_name': 'Group A'}, 'M-2002-04': {'teams': {'Germany': 8, 'Saudi Arabia': 0}, 'group_name': 'Group E'}, 'M-2002-02': {'teams': {'Republic of Ireland': 1, 'Cameroon': 1}, 'group_name': 'Group E'}, 'M-2002-03': {'teams': {'Uruguay': 1, 'Denmark': 2}, 'group_name': 'Group A'}, 'M-2002-07': {'teams': {'England': 1, 'Sweden': 1}, 'group_name': 'Group F'}, 'M-2002-06': {'teams': {'Paraguay': 2, 'South Africa': 2}, 'group_name': 'Group B'}, 'M-2002-08': {'teams': {'Spain': 3, 'Slovenia': 1}, 'group_name': 'Group B'}, 'M-2002-05': {'teams': {'Argentina': 1, 'Nigeria': 0}, 'group_name': 'Group F'}, 'M-2002-11': {'teams': {'Italy': 2, 'Ecuador': 0}, 'group_name': 'Group G'}, 'M-2002-10': {'teams': {'Brazil': 2, 'Turkey': 1}, 'group_name': 'Group C'}, 'M-2002-09': {'teams': {'Croatia': 0, 'Mexico': 1}, 'group_name': 'Group G'}, 'M-2002-14': {'teams': {'South Korea': 2, 'Poland': 0}, 'group_name': 'Group D'}, 'M-2002-13': {'teams': {'Japan': 2, 'Belgium': 2}, 'group_name': 'Group H'}, 'M-2002-12': {'teams': {'China': 0, 'Costa Rica': 2}, 'group_name': 'Group C'}, 'M-2002-16': {'teams': {'United States': 3, 'Portugal': 2}, 'group_name': 'Group D'}, 'M-2002-17': {'teams': {'Germany': 1, 'Republic of Ireland': 1}, 'group_name': 'Group E'}, 'M-2002-15': {'teams': {'Russia': 2, 'Tunisia': 0}, 'group_name': 'Group H'}, 'M-2002-18': {'teams': {'Denmark': 1, 'Senegal': 1}, 'group_name': 'Group A'}, 'M-2002-19': {'teams': {'Cameroon': 1, 'Saudi Arabia': 0}, 'group_name': 'Group E'}, 'M-2002-22': {'teams': {'Spain': 3, 'Paraguay': 1}, 'group_name': 'Group B'}, 'M-2002-21': {'teams': {'Sweden': 2, 'Nigeria': 1}, 'group_name': 'Group F'}, 'M-2002-23': {'teams': {'Argentina': 0, 'England': 1}, 'group_name': 'Group F'}, 'M-2002-24': {'teams': {'South Africa': 1, 'Slovenia': 0}, 'group_name': 'Group B'}, 'M-2002-26': {'teams': {'Brazil': 4, 'China': 0}, 'group_name': 'Group C'}, 'M-2002-25': {'teams': {'Italy': 1, 'Croatia': 2}, 'group_name': 'Group G'}, 'M-2002-27': {'teams': {'Mexico': 2, 'Ecuador': 1}, 'group_name': 'Group G'}, 'M-2002-29': {'teams': {'Japan': 1, 'Russia': 0}, 'group_name': 'Group H'}, 'M-2002-28': {'teams': {'Costa Rica': 1, 'Turkey': 1}, 'group_name': 'Group C'}, 'M-2002-31': {'teams': {'Tunisia': 1, 'Belgium': 1}, 'group_name': 'Group H'}, 'M-2002-32': {'teams': {'Portugal': 4, 'Poland': 0}, 'group_name': 'Group D'}, 'M-2002-30': {'teams': {'South Korea': 1, 'United States': 1}, 'group_name': 'Group D'}, 'M-2002-36': {'teams': {'Saudi Arabia': 0, 'Republic of Ireland': 3}, 'group_name': 'Group E'}, 'M-2002-34': {'teams': {'Senegal': 3, 'Uruguay': 3}, 'group_name': 'Group A'}, 'M-2002-33': {'teams': {'Denmark': 2, 'France': 0}, 'group_name': 'Group A'}, 'M-2002-35': {'teams': {'Cameroon': 0, 'Germany': 2}, 'group_name': 'Group E'}, 'M-2002-40': {'teams': {'South Africa': 2, 'Spain': 3}, 'group_name': 'Group B'}, 'M-2002-39': {'teams': {'Slovenia': 1, 'Paraguay': 3}, 'group_name': 'Group B'}, 'M-2002-38': {'teams': {'Sweden': 1, 'Argentina': 1}, 'group_name': 'Group F'}, 'M-2002-42': {'teams': {'Turkey': 3, 'China': 0}, 'group_name': 'Group C'}, 'M-2002-41': {'teams': {'Costa Rica': 2, 'Brazil': 5}, 'group_name': 'Group C'}, 'M-2002-44': {'teams': {'Mexico': 1, 'Italy': 1}, 'group_name': 'Group G'}, 'M-2002-43': {'teams': {'Ecuador': 1, 'Croatia': 0}, 'group_name': 'Group G'}, 'M-2002-47': {'teams': {'Poland': 3, 'United States': 1}, 'group_name': 'Group D'}, 'M-2002-45': {'teams': {'Belgium': 3, 'Russia': 2}, 'group_name': 'Group H'}, 'M-2002-46': {'teams': {'Tunisia': 0, 'Japan': 2}, 'group_name': 'Group H'}, 'M-2002-48': {'teams': {'Portugal': 0, 'South Korea': 1}, 'group_name': 'Group D'}, 'M-2002-50': {'teams': {'Denmark': 0, 'England': 3}, 'group_name': 'not applicable'}, 'M-2002-49': {'teams': {'Germany': 1, 'Paraguay': 0}, 'group_name': 'not applicable'}, 'M-2002-52': {'teams': {'Spain': 1, 'Republic of Ireland': 1}, 'group_name': 'not applicable'}, 'M-2002-51': {'teams': {'Sweden': 1, 'Senegal': 2}, 'group_name': 'not applicable'}, 'M-2002-53': {'teams': {'Mexico': 0, 'United States': 2}, 'group_name': 'not applicable'}, 'M-2002-54': {'teams': {'Brazil': 2, 'Belgium': 0}, 'group_name': 'not applicable'}, 'M-2002-55': {'teams': {'Japan': 0, 'Turkey': 1}, 'group_name': 'not applicable'}, 'M-2002-56': {'teams': {'South Korea': 2, 'Italy': 1}, 'group_name': 'not applicable'}, 'M-2002-57': {'teams': {'England': 1, 'Brazil': 2}, 'group_name': 'not applicable'}, 'M-2002-58': {'teams': {'Germany': 1, 'United States': 0}, 'group_name': 'not applicable'}, 'M-2002-60': {'teams': {'Senegal': 0, 'Turkey': 1}, 'group_name': 'not applicable'}, 'M-2002-61': {'teams': {'Germany': 1, 'South Korea': 0}, 'group_name': 'not applicable'}, 'M-2002-62': {'teams': {'Brazil': 1, 'Turkey': 0}, 'group_name': 'not applicable'}, 'M-2002-63': {'teams': {'South Korea': 2, 'Turkey': 3}, 'group_name': 'not applicable'}, 'M-2002-64': {'teams': {'Germany': 0, 'Brazil': 2}, 'group_name': 'not applicable'}, 'M-2006-01': {'teams': {'Germany': 4, 'Costa Rica': 2}, 'group_name': 'Group A'}, 'M-2006-02': {'teams': {'Poland': 0, 'Ecuador': 2}, 'group_name': 'Group A'}, 'M-2006-03': {'teams': {'England': 1, 'Paraguay': 0}, 'group_name': 'Group B'}, 'M-2006-05': {'teams': {'Argentina': 2, 'Ivory Coast': 1}, 'group_name': 'Group C'}, 'M-2006-08': {'teams': {'Angola': 0, 'Portugal': 1}, 'group_name': 'Group D'}, 'M-2006-06': {'teams': {'Serbia and Montenegro': 0, 'Netherlands': 1}, 'group_name': 'Group C'}, 'M-2006-07': {'teams': {'Mexico': 3, 'Iran': 1}, 'group_name': 'Group D'}, 'M-2006-10': {'teams': {'United States': 0, 'Czech Republic': 3}, 'group_name': 'Group E'}, 'M-2006-09': {'teams': {'Australia': 3, 'Japan': 1}, 'group_name': 'Group F'}, 'M-2006-11': {'teams': {'Italy': 2, 'Ghana': 0}, 'group_name': 'Group E'}, 'M-2006-12': {'teams': {'South Korea': 2, 'Togo': 1}, 'group_name': 'Group G'}, 'M-2006-14': {'teams': {'Brazil': 1, 'Croatia': 0}, 'group_name': 'Group F'}, 'M-2006-15': {'teams': {'Spain': 4, 'Ukraine': 0}, 'group_name': 'Group H'}, 'M-2006-16': {'teams': {'Tunisia': 2, 'Saudi Arabia': 2}, 'group_name': 'Group H'}, 'M-2006-17': {'teams': {'Germany': 1, 'Poland': 0}, 'group_name': 'Group A'}, 'M-2006-18': {'teams': {'Ecuador': 3, 'Costa Rica': 0}, 'group_name': 'Group A'}, 'M-2006-19': {'teams': {'England': 2, 'Trinidad and Tobago': 0}, 'group_name': 'Group B'}, 'M-2006-20': {'teams': {'Sweden': 1, 'Paraguay': 0}, 'group_name': 'Group B'}, 'M-2006-21': {'teams': {'Argentina': 6, 'Serbia and Montenegro': 0}, 'group_name': 'Group C'}, 'M-2006-22': {'teams': {'Netherlands': 2, 'Ivory Coast': 1}, 'group_name': 'Group C'}, 'M-2006-25': {'teams': {'Czech Republic': 0, 'Ghana': 2}, 'group_name': 'Group E'}, 'M-2006-26': {'teams': {'Italy': 1, 'United States': 1}, 'group_name': 'Group E'}, 'M-2006-24': {'teams': {'Portugal': 2, 'Iran': 0}, 'group_name': 'Group D'}, 'M-2006-29': {'teams': {'France': 1, 'South Korea': 1}, 'group_name': 'Group G'}, 'M-2006-28': {'teams': {'Brazil': 2, 'Australia': 0}, 'group_name': 'Group F'}, 'M-2006-31': {'teams': {'Saudi Arabia': 0, 'Ukraine': 4}, 'group_name': 'Group H'}, 'M-2006-32': {'teams': {'Spain': 3, 'Tunisia': 1}, 'group_name': 'Group H'}, 'M-2006-30': {'teams': {'Togo': 0, 'Switzerland': 2}, 'group_name': 'Group G'}, 'M-2006-34': {'teams': {'Ecuador': 0, 'Germany': 3}, 'group_name': 'Group A'}, 'M-2006-33': {'teams': {'Costa Rica': 1, 'Poland': 2}, 'group_name': 'Group A'}, 'M-2006-35': {'teams': {'Paraguay': 2, 'Trinidad and Tobago': 0}, 'group_name': 'Group B'}, 'M-2006-36': {'teams': {'Sweden': 2, 'England': 2}, 'group_name': 'Group B'}, 'M-2006-38': {'teams': {'Portugal': 2, 'Mexico': 1}, 'group_name': 'Group D'}, 'M-2006-39': {'teams': {'Ivory Coast': 3, 'Serbia and Montenegro': 2}, 'group_name': 'Group C'}, 'M-2006-37': {'teams': {'Iran': 1, 'Angola': 1}, 'group_name': 'Group D'}, 'M-2006-43': {'teams': {'Croatia': 2, 'Australia': 2}, 'group_name': 'Group F'}, 'M-2006-42': {'teams': {'Ghana': 2, 'United States': 1}, 'group_name': 'Group E'}, 'M-2006-41': {'teams': {'Czech Republic': 0, 'Italy': 2}, 'group_name': 'Group E'}, 'M-2006-44': {'teams': {'Japan': 1, 'Brazil': 4}, 'group_name': 'Group F'}, 'M-2006-47': {'teams': {'Switzerland': 2, 'South Korea': 0}, 'group_name': 'Group G'}, 'M-2006-45': {'teams': {'Saudi Arabia': 0, 'Spain': 1}, 'group_name': 'Group H'}, 'M-2006-48': {'teams': {'Togo': 0, 'France': 2}, 'group_name': 'Group G'}, 'M-2006-46': {'teams': {'Ukraine': 1, 'Tunisia': 0}, 'group_name': 'Group H'}, 'M-2006-49': {'teams': {'Germany': 2, 'Sweden': 0}, 'group_name': 'not applicable'}, 'M-2006-50': {'teams': {'Argentina': 2, 'Mexico': 1}, 'group_name': 'not applicable'}, 'M-2006-52': {'teams': {'Portugal': 1, 'Netherlands': 0}, 'group_name': 'not applicable'}, 'M-2006-51': {'teams': {'England': 1, 'Ecuador': 0}, 'group_name': 'not applicable'}, 'M-2006-53': {'teams': {'Italy': 1, 'Australia': 0}, 'group_name': 'not applicable'}, 'M-2006-55': {'teams': {'Brazil': 3, 'Ghana': 0}, 'group_name': 'not applicable'}, 'M-2006-56': {'teams': {'Spain': 1, 'France': 3}, 'group_name': 'not applicable'}, 'M-2006-58': {'teams': {'Italy': 3, 'Ukraine': 0}, 'group_name': 'not applicable'}, 'M-2006-57': {'teams': {'Germany': 1, 'Argentina': 1}, 'group_name': 'not applicable'}, 'M-2006-60': {'teams': {'Brazil': 0, 'France': 1}, 'group_name': 'not applicable'}, 'M-2006-61': {'teams': {'Germany': 0, 'Italy': 2}, 'group_name': 'not applicable'}, 'M-2006-62': {'teams': {'Portugal': 0, 'France': 1}, 'group_name': 'not applicable'}, 'M-2006-63': {'teams': {'Germany': 3, 'Portugal': 1}, 'group_name': 'not applicable'}, 'M-2006-64': {'teams': {'Italy': 1, 'France': 1}, 'group_name': 'not applicable'}, 'M-2010-01': {'teams': {'South Africa': 1, 'Mexico': 1}, 'group_name': 'Group A'}, 'M-2010-05': {'teams': {'England': 1, 'United States': 1}, 'group_name': 'Group C'}, 'M-2010-04': {'teams': {'Argentina': 1, 'Nigeria': 0}, 'group_name': 'Group B'}, 'M-2010-03': {'teams': {'South Korea': 2, 'Greece': 0}, 'group_name': 'Group B'}, 'M-2010-08': {'teams': {'Germany': 4, 'Australia': 0}, 'group_name': 'Group D'}, 'M-2010-06': {'teams': {'Algeria': 0, 'Slovenia': 1}, 'group_name': 'Group C'}, 'M-2010-07': {'teams': {'Serbia': 0, 'Ghana': 1}, 'group_name': 'Group D'}, 'M-2010-10': {'teams': {'Japan': 1, 'Cameroon': 0}, 'group_name': 'Group E'}, 'M-2010-11': {'teams': {'Italy': 1, 'Paraguay': 1}, 'group_name': 'Group F'}, 'M-2010-09': {'teams': {'Netherlands': 2, 'Denmark': 0}, 'group_name': 'Group E'}, 'M-2010-12': {'teams': {'New Zealand': 1, 'Slovakia': 1}, 'group_name': 'Group F'}, 'M-2010-14': {'teams': {'Brazil': 2, 'North Korea': 1}, 'group_name': 'Group G'}, 'M-2010-17': {'teams': {'South Africa': 0, 'Uruguay': 3}, 'group_name': 'Group A'}, 'M-2010-15': {'teams': {'Honduras': 0, 'Chile': 1}, 'group_name': 'Group H'}, 'M-2010-16': {'teams': {'Spain': 0, 'Switzerland': 1}, 'group_name': 'Group H'}, 'M-2010-19': {'teams': {'Greece': 2, 'Nigeria': 1}, 'group_name': 'Group B'}, 'M-2010-18': {'teams': {'Argentina': 4, 'South Korea': 1}, 'group_name': 'Group B'}, 'M-2010-20': {'teams': {'France': 0, 'Mexico': 2}, 'group_name': 'Group A'}, 'M-2010-22': {'teams': {'Slovenia': 2, 'United States': 2}, 'group_name': 'Group C'}, 'M-2010-21': {'teams': {'Germany': 0, 'Serbia': 1}, 'group_name': 'Group D'}, 'M-2010-26': {'teams': {'Cameroon': 1, 'Denmark': 2}, 'group_name': 'Group E'}, 'M-2010-25': {'teams': {'Ghana': 1, 'Australia': 1}, 'group_name': 'Group D'}, 'M-2010-24': {'teams': {'Netherlands': 1, 'Japan': 0}, 'group_name': 'Group E'}, 'M-2010-28': {'teams': {'Italy': 1, 'New Zealand': 1}, 'group_name': 'Group F'}, 'M-2010-29': {'teams': {'Brazil': 3, 'Ivory Coast': 1}, 'group_name': 'Group G'}, 'M-2010-27': {'teams': {'Slovakia': 0, 'Paraguay': 2}, 'group_name': 'Group F'}, 'M-2010-32': {'teams': {'Spain': 2, 'Honduras': 0}, 'group_name': 'Group H'}, 'M-2010-30': {'teams': {'Portugal': 7, 'North Korea': 0}, 'group_name': 'Group G'}, 'M-2010-31': {'teams': {'Chile': 1, 'Switzerland': 0}, 'group_name': 'Group H'}, 'M-2010-36': {'teams': {'Nigeria': 2, 'South Korea': 2}, 'group_name': 'Group B'}, 'M-2010-33': {'teams': {'France': 1, 'South Africa': 2}, 'group_name': 'Group A'}, 'M-2010-34': {'teams': {'Mexico': 0, 'Uruguay': 1}, 'group_name': 'Group A'}, 'M-2010-35': {'teams': {'Greece': 0, 'Argentina': 2}, 'group_name': 'Group B'}, 'M-2010-37': {'teams': {'Slovenia': 0, 'England': 1}, 'group_name': 'Group C'}, 'M-2010-40': {'teams': {'Ghana': 0, 'Germany': 1}, 'group_name': 'Group D'}, 'M-2010-39': {'teams': {'Australia': 2, 'Serbia': 1}, 'group_name': 'Group D'}, 'M-2010-38': {'teams': {'United States': 1, 'Algeria': 0}, 'group_name': 'Group C'}, 'M-2010-44': {'teams': {'Denmark': 1, 'Japan': 3}, 'group_name': 'Group E'}, 'M-2010-42': {'teams': {'Slovakia': 3, 'Italy': 2}, 'group_name': 'Group F'}, 'M-2010-43': {'teams': {'Cameroon': 1, 'Netherlands': 2}, 'group_name': 'Group E'}, 'M-2010-45': {'teams': {'North Korea': 0, 'Ivory Coast': 3}, 'group_name': 'Group G'}, 'M-2010-47': {'teams': {'Chile': 1, 'Spain': 2}, 'group_name': 'Group H'}, 'M-2010-50': {'teams': {'United States': 1, 'Ghana': 2}, 'group_name': 'not applicable'}, 'M-2010-49': {'teams': {'Uruguay': 2, 'South Korea': 1}, 'group_name': 'not applicable'}, 'M-2010-51': {'teams': {'Germany': 4, 'England': 1}, 'group_name': 'not applicable'}, 'M-2010-52': {'teams': {'Argentina': 3, 'Mexico': 1}, 'group_name': 'not applicable'}, 'M-2010-53': {'teams': {'Netherlands': 2, 'Slovakia': 1}, 'group_name': 'not applicable'}, 'M-2010-54': {'teams': {'Brazil': 3, 'Chile': 0}, 'group_name': 'not applicable'}, 'M-2010-56': {'teams': {'Spain': 1, 'Portugal': 0}, 'group_name': 'not applicable'}, 'M-2010-57': {'teams': {'Netherlands': 2, 'Brazil': 1}, 'group_name': 'not applicable'}, 'M-2010-58': {'teams': {'Uruguay': 1, 'Ghana': 1}, 'group_name': 'not applicable'}, 'M-2010-59': {'teams': {'Argentina': 0, 'Germany': 4}, 'group_name': 'not applicable'}, 'M-2010-60': {'teams': {'Paraguay': 0, 'Spain': 1}, 'group_name': 'not applicable'}, 'M-2010-61': {'teams': {'Uruguay': 2, 'Netherlands': 3}, 'group_name': 'not applicable'}, 'M-2010-62': {'teams': {'Germany': 0, 'Spain': 1}, 'group_name': 'not applicable'}, 'M-2010-63': {'teams': {'Uruguay': 2, 'Germany': 3}, 'group_name': 'not applicable'}, 'M-2010-64': {'teams': {'Netherlands': 0, 'Spain': 1}, 'group_name': 'not applicable'}, 'M-2014-01': {'teams': {'Brazil': 3, 'Croatia': 1}, 'group_name': 'Group A'}, 'M-2014-04': {'teams': {'Chile': 3, 'Australia': 1}, 'group_name': 'Group B'}, 'M-2014-03': {'teams': {'Spain': 1, 'Netherlands': 5}, 'group_name': 'Group B'}, 'M-2014-02': {'teams': {'Mexico': 1, 'Cameroon': 0}, 'group_name': 'Group A'}, 'M-2014-05': {'teams': {'Colombia': 3, 'Greece': 0}, 'group_name': 'Group C'}, 'M-2014-08': {'teams': {'Ivory Coast': 2, 'Japan': 1}, 'group_name': 'Group C'}, 'M-2014-06': {'teams': {'Uruguay': 1, 'Costa Rica': 3}, 'group_name': 'Group D'}, 'M-2014-07': {'teams': {'England': 1, 'Italy': 2}, 'group_name': 'Group D'}, 'M-2014-11': {'teams': {'Argentina': 2, 'Bosnia and Herzegovina': 1}, 'group_name': 'Group F'}, 'M-2014-09': {'teams': {'Switzerland': 2, 'Ecuador': 1}, 'group_name': 'Group E'}, 'M-2014-10': {'teams': {'France': 3, 'Honduras': 0}, 'group_name': 'Group E'}, 'M-2014-14': {'teams': {'Ghana': 1, 'United States': 2}, 'group_name': 'Group G'}, 'M-2014-12': {'teams': {'Germany': 4, 'Portugal': 0}, 'group_name': 'Group G'}, 'M-2014-15': {'teams': {'Belgium': 2, 'Algeria': 1}, 'group_name': 'Group H'}, 'M-2014-17': {'teams': {'Russia': 1, 'South Korea': 1}, 'group_name': 'Group H'}, 'M-2014-20': {'teams': {'Cameroon': 0, 'Croatia': 4}, 'group_name': 'Group A'}, 'M-2014-18': {'teams': {'Australia': 2, 'Netherlands': 3}, 'group_name': 'Group B'}, 'M-2014-19': {'teams': {'Spain': 0, 'Chile': 2}, 'group_name': 'Group B'}, 'M-2014-22': {'teams': {'Uruguay': 2, 'England': 1}, 'group_name': 'Group D'}, 'M-2014-21': {'teams': {'Colombia': 2, 'Ivory Coast': 1}, 'group_name': 'Group C'}, 'M-2014-25': {'teams': {'Switzerland': 2, 'France': 5}, 'group_name': 'Group E'}, 'M-2014-26': {'teams': {'Honduras': 1, 'Ecuador': 2}, 'group_name': 'Group E'}, 'M-2014-24': {'teams': {'Italy': 0, 'Costa Rica': 1}, 'group_name': 'Group D'}, 'M-2014-29': {'teams': {'Nigeria': 1, 'Bosnia and Herzegovina': 0}, 'group_name': 'Group F'}, 'M-2014-28': {'teams': {'Germany': 2, 'Ghana': 2}, 'group_name': 'Group G'}, 'M-2014-27': {'teams': {'Argentina': 1, 'Iran': 0}, 'group_name': 'Group F'}, 'M-2014-32': {'teams': {'United States': 2, 'Portugal': 2}, 'group_name': 'Group G'}, 'M-2014-31': {'teams': {'South Korea': 2, 'Algeria': 4}, 'group_name': 'Group H'}, 'M-2014-30': {'teams': {'Belgium': 1, 'Russia': 0}, 'group_name': 'Group H'}, 'M-2014-35': {'teams': {'Cameroon': 1, 'Brazil': 4}, 'group_name': 'Group A'}, 'M-2014-33': {'teams': {'Australia': 0, 'Spain': 3}, 'group_name': 'Group B'}, 'M-2014-36': {'teams': {'Croatia': 1, 'Mexico': 3}, 'group_name': 'Group A'}, 'M-2014-34': {'teams': {'Netherlands': 2, 'Chile': 0}, 'group_name': 'Group B'}, 'M-2014-39': {'teams': {'Japan': 1, 'Colombia': 4}, 'group_name': 'Group C'}, 'M-2014-40': {'teams': {'Greece': 2, 'Ivory Coast': 1}, 'group_name': 'Group C'}, 'M-2014-38': {'teams': {'Italy': 0, 'Uruguay': 1}, 'group_name': 'Group D'}, 'M-2014-42': {'teams': {'Nigeria': 2, 'Argentina': 3}, 'group_name': 'Group F'}, 'M-2014-43': {'teams': {'Honduras': 0, 'Switzerland': 3}, 'group_name': 'Group E'}, 'M-2014-41': {'teams': {'Bosnia and Herzegovina': 3, 'Iran': 1}, 'group_name': 'Group F'}, 'M-2014-47': {'teams': {'Algeria': 1, 'Russia': 1}, 'group_name': 'Group H'}, 'M-2014-45': {'teams': {'Portugal': 2, 'Ghana': 1}, 'group_name': 'Group G'}, 'M-2014-46': {'teams': {'United States': 0, 'Germany': 1}, 'group_name': 'Group G'}, 'M-2014-48': {'teams': {'South Korea': 0, 'Belgium': 1}, 'group_name': 'Group H'}, 'M-2014-49': {'teams': {'Brazil': 1, 'Chile': 1}, 'group_name': 'not applicable'}, 'M-2014-50': {'teams': {'Colombia': 2, 'Uruguay': 0}, 'group_name': 'not applicable'}, 'M-2014-51': {'teams': {'Netherlands': 2, 'Mexico': 1}, 'group_name': 'not applicable'}, 'M-2014-52': {'teams': {'Costa Rica': 1, 'Greece': 1}, 'group_name': 'not applicable'}, 'M-2014-53': {'teams': {'France': 2, 'Nigeria': 0}, 'group_name': 'not applicable'}, 'M-2014-54': {'teams': {'Germany': 2, 'Algeria': 1}, 'group_name': 'not applicable'}, 'M-2014-56': {'teams': {'Belgium': 2, 'United States': 1}, 'group_name': 'not applicable'}, 'M-2014-55': {'teams': {'Argentina': 1, 'Switzerland': 0}, 'group_name': 'not applicable'}, 'M-2014-58': {'teams': {'Brazil': 2, 'Colombia': 1}, 'group_name': 'not applicable'}, 'M-2014-57': {'teams': {'France': 0, 'Germany': 1}, 'group_name': 'not applicable'}, 'M-2014-59': {'teams': {'Argentina': 1, 'Belgium': 0}, 'group_name': 'not applicable'}, 'M-2014-61': {'teams': {'Brazil': 1, 'Germany': 7}, 'group_name': 'not applicable'}, 'M-2014-63': {'teams': {'Brazil': 0, 'Netherlands': 3}, 'group_name': 'not applicable'}, 'M-2014-64': {'teams': {'Germany': 1, 'Argentina': 0}, 'group_name': 'not applicable'}, 'M-2018-01': {'teams': {'Russia': 5, 'Saudi Arabia': 0}, 'group_name': 'Group A'}, 'M-2018-04': {'teams': {'Portugal': 3, 'Spain': 3}, 'group_name': 'Group B'}, 'M-2018-02': {'teams': {'Egypt': 0, 'Uruguay': 1}, 'group_name': 'Group A'}, 'M-2018-03': {'teams': {'Morocco': 0, 'Iran': 1}, 'group_name': 'Group B'}, 'M-2018-06': {'teams': {'Argentina': 1, 'Iceland': 1}, 'group_name': 'Group D'}, 'M-2018-08': {'teams': {'Croatia': 2, 'Nigeria': 0}, 'group_name': 'Group D'}, 'M-2018-05': {'teams': {'France': 2, 'Australia': 1}, 'group_name': 'Group C'}, 'M-2018-07': {'teams': {'Peru': 0, 'Denmark': 1}, 'group_name': 'Group C'}, 'M-2018-11': {'teams': {'Brazil': 1, 'Switzerland': 1}, 'group_name': 'Group E'}, 'M-2018-10': {'teams': {'Germany': 0, 'Mexico': 1}, 'group_name': 'Group F'}, 'M-2018-09': {'teams': {'Costa Rica': 0, 'Serbia': 1}, 'group_name': 'Group E'}, 'M-2018-14': {'teams': {'Tunisia': 1, 'England': 2}, 'group_name': 'Group G'}, 'M-2018-13': {'teams': {'Belgium': 3, 'Panama': 0}, 'group_name': 'Group G'}, 'M-2018-12': {'teams': {'Sweden': 1, 'South Korea': 0}, 'group_name': 'Group F'}, 'M-2018-15': {'teams': {'Colombia': 1, 'Japan': 2}, 'group_name': 'Group H'}, 'M-2018-16': {'teams': {'Poland': 1, 'Senegal': 2}, 'group_name': 'Group H'}, 'M-2018-17': {'teams': {'Russia': 3, 'Egypt': 1}, 'group_name': 'Group A'}, 'M-2018-18': {'teams': {'Portugal': 1, 'Morocco': 0}, 'group_name': 'Group B'}, 'M-2018-19': {'teams': {'Uruguay': 1, 'Saudi Arabia': 0}, 'group_name': 'Group A'}, 'M-2018-20': {'teams': {'Iran': 0, 'Spain': 1}, 'group_name': 'Group B'}, 'M-2018-21': {'teams': {'Denmark': 1, 'Australia': 1}, 'group_name': 'Group C'}, 'M-2018-22': {'teams': {'France': 1, 'Peru': 0}, 'group_name': 'Group C'}, 'M-2018-23': {'teams': {'Argentina': 0, 'Croatia': 3}, 'group_name': 'Group D'}, 'M-2018-26': {'teams': {'Serbia': 1, 'Switzerland': 2}, 'group_name': 'Group E'}, 'M-2018-25': {'teams': {'Nigeria': 2, 'Iceland': 0}, 'group_name': 'Group D'}, 'M-2018-24': {'teams': {'Brazil': 2, 'Costa Rica': 0}, 'group_name': 'Group E'}, 'M-2018-27': {'teams': {'Belgium': 5, 'Tunisia': 2}, 'group_name': 'Group G'}, 'M-2018-28': {'teams': {'South Korea': 1, 'Mexico': 2}, 'group_name': 'Group F'}, 'M-2018-29': {'teams': {'Germany': 2, 'Sweden': 1}, 'group_name': 'Group F'}, 'M-2018-30': {'teams': {'England': 6, 'Panama': 1}, 'group_name': 'Group G'}, 'M-2018-31': {'teams': {'Japan': 2, 'Senegal': 2}, 'group_name': 'Group H'}, 'M-2018-32': {'teams': {'Poland': 0, 'Colombia': 3}, 'group_name': 'Group H'}, 'M-2018-34': {'teams': {'Uruguay': 3, 'Russia': 0}, 'group_name': 'Group A'}, 'M-2018-35': {'teams': {'Spain': 2, 'Morocco': 2}, 'group_name': 'Group B'}, 'M-2018-33': {'teams': {'Saudi Arabia': 2, 'Egypt': 1}, 'group_name': 'Group A'}, 'M-2018-36': {'teams': {'Iran': 1, 'Portugal': 1}, 'group_name': 'Group B'}, 'M-2018-40': {'teams': {'Nigeria': 1, 'Argentina': 2}, 'group_name': 'Group D'}, 'M-2018-37': {'teams': {'Australia': 0, 'Peru': 2}, 'group_name': 'Group C'}, 'M-2018-39': {'teams': {'Iceland': 1, 'Croatia': 2}, 'group_name': 'Group D'}, 'M-2018-44': {'teams': {'Switzerland': 2, 'Costa Rica': 2}, 'group_name': 'Group E'}, 'M-2018-43': {'teams': {'Serbia': 0, 'Brazil': 2}, 'group_name': 'Group E'}, 'M-2018-42': {'teams': {'Mexico': 0, 'Sweden': 3}, 'group_name': 'Group F'}, 'M-2018-41': {'teams': {'South Korea': 2, 'Germany': 0}, 'group_name': 'Group F'}, 'M-2018-48': {'teams': {'Panama': 1, 'Tunisia': 2}, 'group_name': 'Group G'}, 'M-2018-47': {'teams': {'England': 0, 'Belgium': 1}, 'group_name': 'Group G'}, 'M-2018-45': {'teams': {'Japan': 0, 'Poland': 1}, 'group_name': 'Group H'}, 'M-2018-46': {'teams': {'Senegal': 0, 'Colombia': 1}, 'group_name': 'Group H'}, 'M-2018-50': {'teams': {'Uruguay': 2, 'Portugal': 1}, 'group_name': 'not applicable'}, 'M-2018-49': {'teams': {'France': 4, 'Argentina': 3}, 'group_name': 'not applicable'}, 'M-2018-52': {'teams': {'Croatia': 1, 'Denmark': 1}, 'group_name': 'not applicable'}, 'M-2018-51': {'teams': {'Spain': 1, 'Russia': 1}, 'group_name': 'not applicable'}, 'M-2018-54': {'teams': {'Belgium': 3, 'Japan': 2}, 'group_name': 'not applicable'}, 'M-2018-53': {'teams': {'Brazil': 2, 'Mexico': 0}, 'group_name': 'not applicable'}, 'M-2018-56': {'teams': {'Colombia': 1, 'England': 1}, 'group_name': 'not applicable'}, 'M-2018-55': {'teams': {'Sweden': 1, 'Switzerland': 0}, 'group_name': 'not applicable'}, 'M-2018-58': {'teams': {'Brazil': 1, 'Belgium': 2}, 'group_name': 'not applicable'}, 'M-2018-57': {'teams': {'Uruguay': 0, 'France': 2}, 'group_name': 'not applicable'}, 'M-2018-59': {'teams': {'Sweden': 0, 'England': 2}, 'group_name': 'not applicable'}, 'M-2018-60': {'teams': {'Russia': 2, 'Croatia': 2}, 'group_name': 'not applicable'}, 'M-2018-61': {'teams': {'France': 1, 'Belgium': 0}, 'group_name': 'not applicable'}, 'M-2018-62': {'teams': {'Croatia': 2, 'England': 1}, 'group_name': 'not applicable'}, 'M-2018-63': {'teams': {'Belgium': 2, 'England': 0}, 'group_name': 'not applicable'}, 'M-2018-64': {'teams': {'France': 4, 'Croatia': 2}, 'group_name': 'not applicable'}, 'M-2022-01': {'teams': {'Qatar': 0, 'Ecuador': 2}, 'group_name': 'Group A'}, 'M-2022-02': {'teams': {'England': 6, 'Iran': 2}, 'group_name': 'Group B'}, 'M-2022-04': {'teams': {'United States': 1, 'Wales': 1}, 'group_name': 'Group B'}, 'M-2022-03': {'teams': {'Senegal': 0, 'Netherlands': 2}, 'group_name': 'Group A'}, 'M-2022-08': {'teams': {'France': 4, 'Australia': 1}, 'group_name': 'Group D'}, 'M-2022-05': {'teams': {'Argentina': 1, 'Saudi Arabia': 2}, 'group_name': 'Group C'}, 'M-2022-11': {'teams': {'Spain': 7, 'Costa Rica': 0}, 'group_name': 'Group E'}, 'M-2022-10': {'teams': {'Germany': 1, 'Japan': 2}, 'group_name': 'Group E'}, 'M-2022-12': {'teams': {'Belgium': 1, 'Canada': 0}, 'group_name': 'Group F'}, 'M-2022-13': {'teams': {'Switzerland': 1, 'Cameroon': 0}, 'group_name': 'Group G'}, 'M-2022-16': {'teams': {'Brazil': 2, 'Serbia': 0}, 'group_name': 'Group G'}, 'M-2022-15': {'teams': {'Portugal': 3, 'Ghana': 2}, 'group_name': 'Group H'}, 'M-2022-19': {'teams': {'Netherlands': 1, 'Ecuador': 1}, 'group_name': 'Group A'}, 'M-2022-18': {'teams': {'Qatar': 1, 'Senegal': 3}, 'group_name': 'Group A'}, 'M-2022-17': {'teams': {'Wales': 0, 'Iran': 2}, 'group_name': 'Group B'}, 'M-2022-21': {'teams': {'Tunisia': 0, 'Australia': 1}, 'group_name': 'Group D'}, 'M-2022-22': {'teams': {'Poland': 2, 'Saudi Arabia': 0}, 'group_name': 'Group C'}, 'M-2022-23': {'teams': {'France': 2, 'Denmark': 1}, 'group_name': 'Group D'}, 'M-2022-24': {'teams': {'Argentina': 2, 'Mexico': 0}, 'group_name': 'Group C'}, 'M-2022-27': {'teams': {'Croatia': 4, 'Canada': 1}, 'group_name': 'Group F'}, 'M-2022-28': {'teams': {'Spain': 1, 'Germany': 1}, 'group_name': 'Group E'}, 'M-2022-26': {'teams': {'Belgium': 0, 'Morocco': 2}, 'group_name': 'Group F'}, 'M-2022-25': {'teams': {'Japan': 0, 'Costa Rica': 1}, 'group_name': 'Group E'}, 'M-2022-30': {'teams': {'South Korea': 2, 'Ghana': 3}, 'group_name': 'Group H'}, 'M-2022-29': {'teams': {'Cameroon': 3, 'Serbia': 3}, 'group_name': 'Group G'}, 'M-2022-32': {'teams': {'Portugal': 2, 'Uruguay': 0}, 'group_name': 'Group H'}, 'M-2022-31': {'teams': {'Brazil': 1, 'Switzerland': 0}, 'group_name': 'Group G'}, 'M-2022-34': {'teams': {'Netherlands': 2, 'Qatar': 0}, 'group_name': 'Group A'}, 'M-2022-35': {'teams': {'Iran': 0, 'United States': 1}, 'group_name': 'Group B'}, 'M-2022-33': {'teams': {'Ecuador': 1, 'Senegal': 2}, 'group_name': 'Group A'}, 'M-2022-36': {'teams': {'Wales': 0, 'England': 3}, 'group_name': 'Group B'}, 'M-2022-39': {'teams': {'Poland': 0, 'Argentina': 2}, 'group_name': 'Group C'}, 'M-2022-40': {'teams': {'Saudi Arabia': 1, 'Mexico': 2}, 'group_name': 'Group C'}, 'M-2022-38': {'teams': {'Tunisia': 1, 'France': 0}, 'group_name': 'Group D'}, 'M-2022-37': {'teams': {'Australia': 1, 'Denmark': 0}, 'group_name': 'Group D'}, 'M-2022-41': {'teams': {'Canada': 1, 'Morocco': 2}, 'group_name': 'Group F'}, 'M-2022-43': {'teams': {'Costa Rica': 2, 'Germany': 4}, 'group_name': 'Group E'}, 'M-2022-44': {'teams': {'Japan': 2, 'Spain': 1}, 'group_name': 'Group E'}, 'M-2022-46': {'teams': {'South Korea': 2, 'Portugal': 1}, 'group_name': 'Group H'}, 'M-2022-48': {'teams': {'Serbia': 2, 'Switzerland': 3}, 'group_name': 'Group G'}, 'M-2022-45': {'teams': {'Ghana': 0, 'Uruguay': 2}, 'group_name': 'Group H'}, 'M-2022-47': {'teams': {'Cameroon': 1, 'Brazil': 0}, 'group_name': 'Group G'}, 'M-2022-49': {'teams': {'Netherlands': 3, 'United States': 1}, 'group_name': 'not applicable'}, 'M-2022-50': {'teams': {'Argentina': 2, 'Australia': 1}, 'group_name': 'not applicable'}, 'M-2022-52': {'teams': {'England': 3, 'Senegal': 0}, 'group_name': 'not applicable'}, 'M-2022-51': {'teams': {'France': 3, 'Poland': 1}, 'group_name': 'not applicable'}, 'M-2022-54': {'teams': {'Brazil': 4, 'South Korea': 1}, 'group_name': 'not applicable'}, 'M-2022-53': {'teams': {'Japan': 1, 'Croatia': 1}, 'group_name': 'not applicable'}, 'M-2022-56': {'teams': {'Portugal': 6, 'Switzerland': 1}, 'group_name': 'not applicable'}, 'M-2022-58': {'teams': {'Netherlands': 2, 'Argentina': 2}, 'group_name': 'not applicable'}, 'M-2022-57': {'teams': {'Croatia': 1, 'Brazil': 1}, 'group_name': 'not applicable'}, 'M-2022-60': {'teams': {'England': 1, 'France': 2}, 'group_name': 'not applicable'}, 'M-2022-59': {'teams': {'Morocco': 1, 'Portugal': 0}, 'group_name': 'not applicable'}, 'M-2022-61': {'teams': {'Argentina': 3, 'Croatia': 0}, 'group_name': 'not applicable'}, 'M-2022-62': {'teams': {'France': 2, 'Morocco': 0}, 'group_name': 'not applicable'}, 'M-2022-63': {'teams': {'Croatia': 2, 'Morocco': 1}, 'group_name': 'not applicable'}, 'M-2022-64': {'teams': {'Argentina': 3, 'France': 3}, 'group_name': 'not applicable'}}\n"
     ]
    }
   ],
   "source": [
    "# Initialize match results ensuring both teams are accounted for\n",
    "match_results = {}\n",
    "\n",
    "# Loop through the sorted goal data and update match results\n",
    "for index, row in goals_df.iterrows():\n",
    "    match_id = row['match_id']\n",
    "    group_name = row['group_name']\n",
    "    match_name = row['match_name']  # This contains the two teams' names\n",
    "    team_name = row['player_team_name']\n",
    "    own_goal = row['own_goal']  # Check if it's an own goal\n",
    "    \n",
    "    # Extract the two teams playing from the match_name (e.g., \"France v Mexico\")\n",
    "    team1, team2 = match_name.split(' v ')\n",
    "    \n",
    "    # Initialize the match entry if it's not already present\n",
    "    if match_id not in match_results:\n",
    "        match_results[match_id] = {\n",
    "            'teams': {team1: 0, team2: 0},  # Initialize both teams with 0 goals\n",
    "            'group_name': group_name\n",
    "        }\n",
    "    \n",
    "    # Determine which team gets the goal\n",
    "    if own_goal == 1:\n",
    "        # If it's an own goal, assign the goal to the opponent team\n",
    "        if team_name == team1:\n",
    "            match_results[match_id]['teams'][team2] += 1\n",
    "        else:\n",
    "            match_results[match_id]['teams'][team1] += 1\n",
    "    else:\n",
    "        # Otherwise, assign the goal to the team that scored\n",
    "        match_results[match_id]['teams'][team_name] += 1\n",
    "\n",
    "# Display the structure of match results to ensure both teams are included\n",
    "print(match_results)\n"
   ]
  },
  {
   "cell_type": "markdown",
   "metadata": {},
   "source": [
    "## Calculate and update league table after each goal"
   ]
  },
  {
   "cell_type": "code",
   "execution_count": 63,
   "metadata": {},
   "outputs": [],
   "source": [
    "from collections import defaultdict\n",
    "\n",
    "# Initialize a dictionary to store league tables per group and tournament_name\n",
    "# For each group in a tournament, it holds a dictionary of teams with their statistics.\n",
    "group_tables = defaultdict(lambda: defaultdict(lambda: {'points': 0, 'goals_scored': 0, 'goals_conceded': 0, 'goal_difference': 0}))"
   ]
  },
  {
   "cell_type": "code",
   "execution_count": null,
   "metadata": {},
   "outputs": [],
   "source": []
  }
 ],
 "metadata": {
  "kernelspec": {
   "display_name": "Python 3",
   "language": "python",
   "name": "python3"
  },
  "language_info": {
   "codemirror_mode": {
    "name": "ipython",
    "version": 3
   },
   "file_extension": ".py",
   "mimetype": "text/x-python",
   "name": "python",
   "nbconvert_exporter": "python",
   "pygments_lexer": "ipython3",
   "version": "3.8.7"
  }
 },
 "nbformat": 4,
 "nbformat_minor": 2
}
